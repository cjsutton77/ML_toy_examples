{
 "cells": [
  {
   "cell_type": "code",
   "execution_count": 1,
   "metadata": {},
   "outputs": [],
   "source": [
    "import numpy as np\n",
    "from sklearn.datasets import fetch_openml\n",
    "from sklearn.model_selection import train_test_split"
   ]
  },
  {
   "cell_type": "code",
   "execution_count": 2,
   "metadata": {},
   "outputs": [],
   "source": [
    "import matplotlib.pyplot as plt"
   ]
  },
  {
   "cell_type": "code",
   "execution_count": 3,
   "metadata": {},
   "outputs": [],
   "source": [
    "mnist = fetch_openml('mnist_784', version=1, cache=True)"
   ]
  },
  {
   "cell_type": "code",
   "execution_count": 4,
   "metadata": {},
   "outputs": [
    {
     "data": {
      "text/plain": [
       "['data',\n",
       " 'target',\n",
       " 'frame',\n",
       " 'feature_names',\n",
       " 'target_names',\n",
       " 'DESCR',\n",
       " 'details',\n",
       " 'categories',\n",
       " 'url']"
      ]
     },
     "execution_count": 4,
     "metadata": {},
     "output_type": "execute_result"
    }
   ],
   "source": [
    "list(mnist)"
   ]
  },
  {
   "cell_type": "code",
   "execution_count": 5,
   "metadata": {},
   "outputs": [
    {
     "data": {
      "text/plain": [
       "(70000, 784)"
      ]
     },
     "execution_count": 5,
     "metadata": {},
     "output_type": "execute_result"
    }
   ],
   "source": [
    "mnist.data.shape"
   ]
  },
  {
   "cell_type": "code",
   "execution_count": 6,
   "metadata": {},
   "outputs": [
    {
     "data": {
      "text/plain": [
       "(70000,)"
      ]
     },
     "execution_count": 6,
     "metadata": {},
     "output_type": "execute_result"
    }
   ],
   "source": [
    "mnist.target.shape"
   ]
  },
  {
   "cell_type": "code",
   "execution_count": 7,
   "metadata": {},
   "outputs": [
    {
     "data": {
      "text/plain": [
       "<matplotlib.image.AxesImage at 0x1a181a5ad0>"
      ]
     },
     "execution_count": 7,
     "metadata": {},
     "output_type": "execute_result"
    },
    {
     "data": {
      "image/png": "[encoded data removed]",
      "text/plain": [
       "<Figure size 432x288 with 1 Axes>"
      ]
     },
     "metadata": {
      "needs_background": "light"
     },
     "output_type": "display_data"
    }
   ],
   "source": [
    "plt.imshow(mnist.data[100].reshape(28,28),cmap='gray')"
   ]
  },
  {
   "cell_type": "code",
   "execution_count": 8,
   "metadata": {},
   "outputs": [],
   "source": [
    "images = (0.99 * mnist.data + 0.01)/ 255"
   ]
  },
  {
   "cell_type": "code",
   "execution_count": 9,
   "metadata": {},
   "outputs": [],
   "source": [
    "def sigmoid(x):\n",
    "    return 1/(1+np.exp(-x))"
   ]
  },
  {
   "cell_type": "code",
   "execution_count": 10,
   "metadata": {},
   "outputs": [
    {
     "name": "stdout",
     "output_type": "stream",
     "text": [
      "70000\n"
     ]
    }
   ],
   "source": [
    "num = mnist.target.shape[0]\n",
    "print(num)"
   ]
  },
  {
   "cell_type": "code",
   "execution_count": 11,
   "metadata": {},
   "outputs": [],
   "source": [
    "# one-hot encode the y_true values\n",
    "y_true = np.zeros((num,10))\n",
    "for i in range(num):\n",
    "    y_true[i,int(mnist.target[i])] = 1"
   ]
  },
  {
   "cell_type": "code",
   "execution_count": 12,
   "metadata": {},
   "outputs": [
    {
     "name": "stdout",
     "output_type": "stream",
     "text": [
      "14000\n"
     ]
    }
   ],
   "source": [
    "X_train,X_test,y_train,y_test = \\\n",
    "train_test_split(mnist.data,\n",
    "                 y_true,\n",
    "                 test_size = 0.8, \n",
    "                 random_state = 42)\n",
    "size = X_train.shape[0]\n",
    "print(size)\n",
    "#for i in range(size):\n",
    "#    print(np.argmax(y_train[i]))"
   ]
  },
  {
   "cell_type": "code",
   "execution_count": 13,
   "metadata": {},
   "outputs": [
    {
     "name": "stdout",
     "output_type": "stream",
     "text": [
      "Epoch 0; Error is 0.56519; Accuracy is 51.94%\n",
      "Epoch 1; Error is 0.55731; Accuracy is 73.59%\n",
      "Epoch 2; Error is 0.53587; Accuracy is 82.04%\n",
      "Epoch 3; Error is 0.35087; Accuracy is 85.85%\n",
      "Epoch 4; Error is 0.41966; Accuracy is 87.49%\n"
     ]
    },
    {
     "name": "stderr",
     "output_type": "stream",
     "text": [
      "/Users/christiansutton/opt/anaconda3/lib/python3.7/site-packages/ipykernel_launcher.py:2: RuntimeWarning: overflow encountered in exp\n",
      "  \n"
     ]
    },
    {
     "name": "stdout",
     "output_type": "stream",
     "text": [
      "Epoch 5; Error is 0.60169; Accuracy is 88.39%\n",
      "Epoch 6; Error is 0.50313; Accuracy is 89.22%\n",
      "Epoch 7; Error is 0.36154; Accuracy is 89.56%\n",
      "Epoch 8; Error is 0.43480; Accuracy is 89.71%\n",
      "Epoch 9; Error is 0.55500; Accuracy is 90.26%\n",
      "Epoch 10; Error is 0.44051; Accuracy is 90.57%\n",
      "Epoch 11; Error is 0.35396; Accuracy is 91.01%\n",
      "Epoch 12; Error is 0.57750; Accuracy is 91.04%\n",
      "Epoch 13; Error is 0.31265; Accuracy is 91.25%\n",
      "Epoch 14; Error is 0.27804; Accuracy is 91.59%\n",
      "Epoch 15; Error is 0.33815; Accuracy is 91.50%\n",
      "Epoch 16; Error is 0.20989; Accuracy is 91.54%\n",
      "Epoch 17; Error is 0.18840; Accuracy is 91.88%\n",
      "Epoch 18; Error is 0.58057; Accuracy is 92.10%\n",
      "Epoch 19; Error is 0.49122; Accuracy is 92.21%\n",
      "Epoch 20; Error is 0.36526; Accuracy is 92.29%\n",
      "Epoch 21; Error is 0.37866; Accuracy is 92.41%\n",
      "Epoch 22; Error is 0.18336; Accuracy is 92.27%\n",
      "Epoch 23; Error is 0.20220; Accuracy is 92.76%\n",
      "Epoch 24; Error is 0.50147; Accuracy is 92.71%\n",
      "Epoch 25; Error is 0.21419; Accuracy is 92.84%\n",
      "Epoch 26; Error is 0.27538; Accuracy is 93.11%\n",
      "Epoch 27; Error is 0.47535; Accuracy is 92.91%\n",
      "Epoch 28; Error is 0.16907; Accuracy is 93.05%\n",
      "Epoch 29; Error is 0.23969; Accuracy is 93.14%\n",
      "Epoch 30; Error is 0.33527; Accuracy is 93.20%\n",
      "Epoch 31; Error is 0.28111; Accuracy is 93.28%\n",
      "Epoch 32; Error is 0.27849; Accuracy is 93.42%\n",
      "Epoch 33; Error is 0.17242; Accuracy is 93.16%\n",
      "Epoch 34; Error is 0.25935; Accuracy is 93.37%\n",
      "Epoch 35; Error is 0.41726; Accuracy is 93.35%\n",
      "Epoch 36; Error is 0.17890; Accuracy is 93.52%\n",
      "Epoch 37; Error is 0.12129; Accuracy is 93.49%\n",
      "Epoch 38; Error is 0.18573; Accuracy is 93.64%\n",
      "Epoch 39; Error is 0.12339; Accuracy is 93.51%\n",
      "Epoch 40; Error is 0.19086; Accuracy is 93.74%\n",
      "Epoch 41; Error is 0.08401; Accuracy is 93.87%\n",
      "Epoch 42; Error is 0.09283; Accuracy is 93.89%\n",
      "Epoch 43; Error is 0.29158; Accuracy is 93.83%\n",
      "Epoch 44; Error is 0.20066; Accuracy is 93.89%\n",
      "Epoch 45; Error is 0.10307; Accuracy is 93.99%\n",
      "Epoch 46; Error is 0.19763; Accuracy is 94.01%\n",
      "Epoch 47; Error is 0.05942; Accuracy is 93.78%\n",
      "Epoch 48; Error is 0.11839; Accuracy is 93.95%\n",
      "Epoch 49; Error is 0.08937; Accuracy is 94.16%\n",
      "---------------------------------------------\n",
      "Final training accuracy is 94.16%\n"
     ]
    }
   ],
   "source": [
    "input_layer = 784\n",
    "hidden_layer = 64\n",
    "output_layer = 10\n",
    "\n",
    "w1 = np.random.normal(0,\n",
    "                      1/np.sqrt(input_layer),\n",
    "                      size = (hidden_layer,input_layer))\n",
    "#print('w1: ',w1.shape)\n",
    "w2 = np.random.normal(0,\n",
    "                      1/np.sqrt(hidden_layer),\n",
    "                      size = (output_layer,hidden_layer))\n",
    "#print('w2: ',w2.shape)\n",
    "b1 = np.ones((hidden_layer,1))\n",
    "#print('b1: ',b1.shape)\n",
    "b2 = np.ones((output_layer,1))\n",
    "#print('b2: ',b2.shape)\n",
    "\n",
    "#w1 = w1.astype('float128')\n",
    "#w2 = w2.astype('float128')\n",
    "#b1 = b1.astype('float128')\n",
    "#b2 = b2.astype('float128')\n",
    "\n",
    "\n",
    "lr = .001\n",
    "epochs = [x for x in range(50)]\n",
    "Error = 0\n",
    "for epoch in epochs:\n",
    "    error = 0\n",
    "    cnt = 0\n",
    "    for i in range(size):\n",
    "        # get the true value\n",
    "        t = y_train[i].reshape(output_layer,1)\n",
    "        # set nodes\n",
    "        x0 = X_train[i].reshape(input_layer,1)\n",
    "        x1 = sigmoid(w1.dot(x0)+b1)\n",
    "        x2 = sigmoid(w2.dot(x1)+b2)\n",
    "        # calculate errors\n",
    "        error = np.sum((x2 - t)*(x2 - t))\n",
    "        derr = (x2 - t)\n",
    "        \n",
    "        #calculate deltas\n",
    "        delta_layer2 = (derr * (x2 * (1-x2)))        \n",
    "        delta_layer1 = (((w2.T).dot(delta_layer2)) * (x1 * (1-x1)))\n",
    "        \n",
    "        #clean up notation\n",
    "        w2 = w2 - lr * delta_layer2.dot(x1.T)\n",
    "        b2 = b2 - lr * delta_layer2\n",
    "        w1 = w1 - lr * delta_layer1.dot(x0.T)\n",
    "        b1 = b1 - lr * delta_layer1\n",
    "        #calculate how many are correct, for accuracy\n",
    "        cnt += np.argmax(x2) == np.argmax(t)\n",
    "    if epoch%1 == 0:\n",
    "        print(f'Epoch {epoch}; Error is {error:.5f}; Accuracy is {100*cnt/size:.2f}%')\n",
    "print(\"---------------------------------------------\")\n",
    "print(f'Final training accuracy is {100*cnt/size:.2f}%')"
   ]
  },
  {
   "cell_type": "code",
   "execution_count": 14,
   "metadata": {},
   "outputs": [
    {
     "name": "stdout",
     "output_type": "stream",
     "text": [
      "Number of test samples is: 56000\n"
     ]
    },
    {
     "name": "stderr",
     "output_type": "stream",
     "text": [
      "/Users/christiansutton/opt/anaconda3/lib/python3.7/site-packages/ipykernel_launcher.py:2: RuntimeWarning: overflow encountered in exp\n",
      "  \n"
     ]
    },
    {
     "name": "stdout",
     "output_type": "stream",
     "text": [
      "Testing accuracy is 92.22%\n"
     ]
    }
   ],
   "source": [
    "cnt = 0\n",
    "print(f'Number of test samples is: {num-size}')\n",
    "for i in range(num-size):\n",
    "    t = y_test[i].reshape(output_layer,1)\n",
    "    # set nodes\n",
    "    x0 = X_test[i].reshape(input_layer,1)\n",
    "    x1 = sigmoid(w1.dot(x0)+b1)\n",
    "    x2 = sigmoid(w2.dot(x1)+b2)\n",
    "    cnt += np.argmax(x2) == np.argmax(t)\n",
    "print(f'Testing accuracy is {100 * cnt/(num-size):.2f}%')"
   ]
  },
  {
   "cell_type": "code",
   "execution_count": 15,
   "metadata": {},
   "outputs": [
    {
     "name": "stdout",
     "output_type": "stream",
     "text": [
      "Please input a digit:\n"
     ]
    },
    {
     "name": "stdin",
     "output_type": "stream",
     "text": [
      " 1234\n"
     ]
    },
    {
     "name": "stdout",
     "output_type": "stream",
     "text": [
      "The queried digit is 9.  The correct digit is 9\n"
     ]
    },
    {
     "name": "stderr",
     "output_type": "stream",
     "text": [
      "/Users/christiansutton/opt/anaconda3/lib/python3.7/site-packages/ipykernel_launcher.py:2: RuntimeWarning: overflow encountered in exp\n",
      "  \n"
     ]
    },
    {
     "data": {
      "image/png": "[encoded data removed]",
      "text/plain": [
       "<Figure size 432x288 with 1 Axes>"
      ]
     },
     "metadata": {
      "needs_background": "light"
     },
     "output_type": "display_data"
    }
   ],
   "source": [
    "print('Please input a digit:')\n",
    "i = int(input())\n",
    "blind = X_test[i].reshape(28,28)\n",
    "plt.imshow(blind)\n",
    "x0 = X_test[i].reshape(input_layer,1)\n",
    "x1 = sigmoid(w1.dot(x0)+b1)\n",
    "x2 = sigmoid(w2.dot(x1)+b2)\n",
    "print(f'The queried digit is {np.argmax(x2)}.  The correct digit is {np.argmax(y_test[i])}')"
   ]
  },
  {
   "cell_type": "code",
   "execution_count": 16,
   "metadata": {},
   "outputs": [
    {
     "data": {
      "text/plain": [
       "<matplotlib.image.AxesImage at 0x1a18a6a090>"
      ]
     },
     "execution_count": 16,
     "metadata": {},
     "output_type": "execute_result"
    },
    {
     "data": {
      "image/png": "[encoded data removed]",
      "text/plain": [
       "<Figure size 432x288 with 1 Axes>"
      ]
     },
     "metadata": {
      "needs_background": "light"
     },
     "output_type": "display_data"
    }
   ],
   "source": [
    "plt.imshow(w2,cmap='gray')"
   ]
  },
  {
   "cell_type": "code",
   "execution_count": 17,
   "metadata": {},
   "outputs": [
    {
     "data": {
      "text/plain": [
       "<matplotlib.image.AxesImage at 0x1a18a4b8d0>"
      ]
     },
     "execution_count": 17,
     "metadata": {},
     "output_type": "execute_result"
    },
    {
     "data": {
      "image/png": "[encoded data removed]",
      "text/plain": [
       "<Figure size 432x288 with 1 Axes>"
      ]
     },
     "metadata": {
      "needs_background": "light"
     },
     "output_type": "display_data"
    }
   ],
   "source": [
    "plt.imshow(w1,aspect=10,cmap='gray')"
   ]
  }
 ],
 "metadata": {
  "kernelspec": {
   "display_name": "Python 3",
   "language": "python",
   "name": "python3"
  },
  "language_info": {
   "codemirror_mode": {
    "name": "ipython",
    "version": 3
   },
   "file_extension": ".py",
   "mimetype": "text/x-python",
   "name": "python",
   "nbconvert_exporter": "python",
   "pygments_lexer": "ipython3",
   "version": "3.7.6"
  }
 },
 "nbformat": 4,
 "nbformat_minor": 4
}
