{
 "cells": [
  {
   "cell_type": "code",
   "execution_count": 1,
   "metadata": {},
   "outputs": [],
   "source": [
    "import numpy as np\n",
    "from sklearn.datasets import fetch_openml\n",
    "from sklearn.model_selection import train_test_split"
   ]
  },
  {
   "cell_type": "code",
   "execution_count": 2,
   "metadata": {},
   "outputs": [],
   "source": [
    "import matplotlib.pyplot as plt"
   ]
  },
  {
   "cell_type": "code",
   "execution_count": 3,
   "metadata": {},
   "outputs": [],
   "source": [
    "mnist = fetch_openml('mnist_784', version=1, cache=True)"
   ]
  },
  {
   "cell_type": "code",
   "execution_count": 4,
   "metadata": {},
   "outputs": [
    {
     "data": {
      "text/plain": [
       "['data',\n",
       " 'target',\n",
       " 'frame',\n",
       " 'feature_names',\n",
       " 'target_names',\n",
       " 'DESCR',\n",
       " 'details',\n",
       " 'categories',\n",
       " 'url']"
      ]
     },
     "execution_count": 4,
     "metadata": {},
     "output_type": "execute_result"
    }
   ],
   "source": [
    "list(mnist)"
   ]
  },
  {
   "cell_type": "code",
   "execution_count": 5,
   "metadata": {},
   "outputs": [
    {
     "data": {
      "text/plain": [
       "(70000, 784)"
      ]
     },
     "execution_count": 5,
     "metadata": {},
     "output_type": "execute_result"
    }
   ],
   "source": [
    "mnist.data.shape"
   ]
  },
  {
   "cell_type": "code",
   "execution_count": 6,
   "metadata": {},
   "outputs": [
    {
     "data": {
      "text/plain": [
       "(70000,)"
      ]
     },
     "execution_count": 6,
     "metadata": {},
     "output_type": "execute_result"
    }
   ],
   "source": [
    "mnist.target.shape"
   ]
  },
  {
   "cell_type": "code",
   "execution_count": 7,
   "metadata": {},
   "outputs": [
    {
     "data": {
      "text/plain": [
       "<matplotlib.image.AxesImage at 0x1a14d0e750>"
      ]
     },
     "execution_count": 7,
     "metadata": {},
     "output_type": "execute_result"
    },
    {
     "data": {
      "image/png": "[encoded data removed]",
      "text/plain": [
       "<Figure size 432x288 with 1 Axes>"
      ]
     },
     "metadata": {
      "needs_background": "light"
     },
     "output_type": "display_data"
    }
   ],
   "source": [
    "plt.imshow(mnist.data[100].reshape(28,28),cmap='gray')"
   ]
  },
  {
   "cell_type": "code",
   "execution_count": 8,
   "metadata": {},
   "outputs": [],
   "source": [
    "images = (0.99 * mnist.data)/ 255"
   ]
  },
  {
   "cell_type": "code",
   "execution_count": 9,
   "metadata": {},
   "outputs": [
    {
     "name": "stdout",
     "output_type": "stream",
     "text": [
      "0.99 0.0\n"
     ]
    }
   ],
   "source": [
    "print(np.max(images[0]),np.min(images[0]))"
   ]
  },
  {
   "cell_type": "code",
   "execution_count": 10,
   "metadata": {},
   "outputs": [],
   "source": [
    "def sigmoid(x):\n",
    "    return 1/(1+np.exp(-x))"
   ]
  },
  {
   "cell_type": "code",
   "execution_count": 11,
   "metadata": {},
   "outputs": [
    {
     "name": "stdout",
     "output_type": "stream",
     "text": [
      "70000\n"
     ]
    }
   ],
   "source": [
    "num = mnist.target.shape[0]\n",
    "print(num)"
   ]
  },
  {
   "cell_type": "code",
   "execution_count": 12,
   "metadata": {},
   "outputs": [],
   "source": [
    "# one-hot encode the y_true values\n",
    "y_true = np.zeros((num,10))\n",
    "for i in range(num):\n",
    "    y_true[i,int(mnist.target[i])] = 1"
   ]
  },
  {
   "cell_type": "code",
   "execution_count": 13,
   "metadata": {},
   "outputs": [
    {
     "name": "stdout",
     "output_type": "stream",
     "text": [
      "14000\n"
     ]
    }
   ],
   "source": [
    "X_train,X_test,y_train,y_test = \\\n",
    "train_test_split(mnist.data,\n",
    "                 y_true,\n",
    "                 test_size = 0.8, \n",
    "                 random_state = 42)\n",
    "size = X_train.shape[0]\n",
    "print(size)\n",
    "#for i in range(size):\n",
    "#    print(np.argmax(y_train[i]))"
   ]
  },
  {
   "cell_type": "code",
   "execution_count": 14,
   "metadata": {},
   "outputs": [],
   "source": [
    "X_valid,y_valid = X_test[:14000],y_test[:14000]\n",
    "X_test_final,y_test_final = X_test[14000:],y_test[14000:]"
   ]
  },
  {
   "cell_type": "code",
   "execution_count": 15,
   "metadata": {},
   "outputs": [
    {
     "name": "stdout",
     "output_type": "stream",
     "text": [
      "(14000, 784)\n",
      "(42000, 784)\n"
     ]
    }
   ],
   "source": [
    "print(X_valid.shape)\n",
    "print(X_test_final.shape)\n",
    "test_size = X_test_final.shape[0]"
   ]
  },
  {
   "cell_type": "code",
   "execution_count": 38,
   "metadata": {},
   "outputs": [
    {
     "name": "stdout",
     "output_type": "stream",
     "text": [
      "Epoch 0\n",
      "Error is 10417.42; Accuracy is 57.81%\n",
      "Validation error is 10438.13 and validation accuracy is 57.09%\n",
      "---------------------------------------------\n",
      "Epoch 1\n",
      "Error is 6229.12; Accuracy is 81.74%\n",
      "Validation error is 6263.28 and validation accuracy is 81.74%\n",
      "---------------------------------------------\n",
      "Epoch 2\n",
      "Error is 4684.08; Accuracy is 86.27%\n",
      "Validation error is 4761.67 and validation accuracy is 85.80%\n",
      "---------------------------------------------\n",
      "Epoch 3\n",
      "Error is 3885.36; Accuracy is 88.03%\n",
      "Validation error is 3954.07 and validation accuracy is 87.70%\n",
      "---------------------------------------------\n",
      "Epoch 4\n",
      "Error is 3392.03; Accuracy is 89.18%\n",
      "Validation error is 3486.33 and validation accuracy is 88.79%\n",
      "---------------------------------------------\n",
      "Epoch 5\n",
      "Error is 3048.21; Accuracy is 90.17%\n",
      "Validation error is 3181.97 and validation accuracy is 89.31%\n",
      "---------------------------------------------\n",
      "Epoch 6\n",
      "Error is 2836.44; Accuracy is 90.51%\n",
      "Validation error is 2967.92 and validation accuracy is 89.86%\n",
      "---------------------------------------------\n"
     ]
    },
    {
     "name": "stderr",
     "output_type": "stream",
     "text": [
      "/Users/christiansutton/opt/anaconda3/lib/python3.7/site-packages/ipykernel_launcher.py:2: RuntimeWarning: overflow encountered in exp\n",
      "  \n"
     ]
    },
    {
     "name": "stdout",
     "output_type": "stream",
     "text": [
      "Epoch 7\n",
      "Error is 2660.46; Accuracy is 90.89%\n",
      "Validation error is 2824.81 and validation accuracy is 90.05%\n",
      "---------------------------------------------\n",
      "Epoch 8\n",
      "Error is 2495.96; Accuracy is 91.50%\n",
      "Validation error is 2670.76 and validation accuracy is 90.36%\n",
      "---------------------------------------------\n",
      "Epoch 9\n",
      "Error is 2377.99; Accuracy is 91.97%\n",
      "Validation error is 2583.52 and validation accuracy is 90.31%\n",
      "---------------------------------------------\n",
      "Epoch 10\n",
      "Error is 2284.16; Accuracy is 91.99%\n",
      "Validation error is 2484.21 and validation accuracy is 90.80%\n",
      "---------------------------------------------\n",
      "Epoch 11\n",
      "Error is 2222.81; Accuracy is 92.16%\n",
      "Validation error is 2434.51 and validation accuracy is 90.94%\n",
      "---------------------------------------------\n",
      "Epoch 12\n",
      "Error is 2124.08; Accuracy is 92.54%\n",
      "Validation error is 2354.62 and validation accuracy is 91.21%\n",
      "---------------------------------------------\n",
      "Epoch 13\n",
      "Error is 2052.28; Accuracy is 92.72%\n",
      "Validation error is 2267.52 and validation accuracy is 91.46%\n",
      "---------------------------------------------\n",
      "Epoch 14\n",
      "Error is 2006.04; Accuracy is 92.79%\n",
      "Validation error is 2232.01 and validation accuracy is 91.71%\n",
      "---------------------------------------------\n",
      "Epoch 15\n",
      "Error is 1917.41; Accuracy is 93.03%\n",
      "Validation error is 2195.03 and validation accuracy is 91.53%\n",
      "---------------------------------------------\n",
      "Epoch 16\n",
      "Error is 1896.22; Accuracy is 93.23%\n",
      "Validation error is 2140.63 and validation accuracy is 91.90%\n",
      "---------------------------------------------\n",
      "Epoch 17\n",
      "Error is 1888.07; Accuracy is 93.26%\n",
      "Validation error is 2131.71 and validation accuracy is 91.99%\n",
      "---------------------------------------------\n",
      "Epoch 18\n",
      "Error is 1814.17; Accuracy is 93.64%\n",
      "Validation error is 2093.97 and validation accuracy is 92.03%\n",
      "---------------------------------------------\n",
      "Epoch 19\n",
      "Error is 1800.06; Accuracy is 93.58%\n",
      "Validation error is 2083.10 and validation accuracy is 92.04%\n",
      "---------------------------------------------\n",
      "Epoch 20\n",
      "Error is 1729.57; Accuracy is 93.78%\n",
      "Validation error is 2024.47 and validation accuracy is 92.27%\n",
      "---------------------------------------------\n",
      "Epoch 21\n",
      "Error is 1679.64; Accuracy is 93.99%\n",
      "Validation error is 1980.45 and validation accuracy is 92.16%\n",
      "---------------------------------------------\n",
      "Epoch 22\n",
      "Error is 1653.84; Accuracy is 93.91%\n",
      "Validation error is 1951.80 and validation accuracy is 92.41%\n",
      "---------------------------------------------\n",
      "Epoch 23\n",
      "Error is 1627.45; Accuracy is 94.08%\n",
      "Validation error is 1916.30 and validation accuracy is 92.43%\n",
      "---------------------------------------------\n",
      "Epoch 24\n",
      "Error is 1583.70; Accuracy is 94.23%\n",
      "Validation error is 1893.69 and validation accuracy is 92.72%\n",
      "---------------------------------------------\n",
      "Epoch 25\n",
      "Error is 1565.55; Accuracy is 94.29%\n",
      "Validation error is 1884.51 and validation accuracy is 92.64%\n",
      "---------------------------------------------\n",
      "Epoch 26\n",
      "Error is 1505.05; Accuracy is 94.38%\n",
      "Validation error is 1851.28 and validation accuracy is 92.54%\n",
      "---------------------------------------------\n",
      "Epoch 27\n",
      "Error is 1510.05; Accuracy is 94.52%\n",
      "Validation error is 1836.12 and validation accuracy is 92.66%\n",
      "---------------------------------------------\n",
      "Epoch 28\n",
      "Error is 1488.41; Accuracy is 94.67%\n",
      "Validation error is 1820.75 and validation accuracy is 92.88%\n",
      "---------------------------------------------\n",
      "Epoch 29\n",
      "Error is 1488.24; Accuracy is 94.51%\n",
      "Validation error is 1827.71 and validation accuracy is 92.64%\n",
      "---------------------------------------------\n",
      "Epoch 30\n",
      "Error is 1455.34; Accuracy is 94.61%\n",
      "Validation error is 1795.12 and validation accuracy is 92.86%\n",
      "---------------------------------------------\n",
      "Epoch 31\n",
      "Error is 1422.24; Accuracy is 94.75%\n",
      "Validation error is 1767.86 and validation accuracy is 93.12%\n",
      "---------------------------------------------\n",
      "Epoch 32\n",
      "Error is 1394.42; Accuracy is 94.92%\n",
      "Validation error is 1765.12 and validation accuracy is 93.04%\n",
      "---------------------------------------------\n",
      "Epoch 33\n",
      "Error is 1385.36; Accuracy is 94.94%\n",
      "Validation error is 1740.06 and validation accuracy is 93.08%\n",
      "---------------------------------------------\n",
      "Epoch 34\n",
      "Error is 1364.69; Accuracy is 95.03%\n",
      "Validation error is 1738.60 and validation accuracy is 92.93%\n",
      "---------------------------------------------\n",
      "Epoch 35\n",
      "Error is 1378.84; Accuracy is 95.01%\n",
      "Validation error is 1741.84 and validation accuracy is 93.21%\n",
      "---------------------------------------------\n",
      "Epoch 36\n",
      "Error is 1337.35; Accuracy is 95.17%\n",
      "Validation error is 1709.77 and validation accuracy is 93.16%\n",
      "---------------------------------------------\n",
      "Epoch 37\n",
      "Error is 1335.31; Accuracy is 95.25%\n",
      "Validation error is 1704.82 and validation accuracy is 93.23%\n",
      "---------------------------------------------\n",
      "Epoch 38\n",
      "Error is 1317.57; Accuracy is 95.19%\n",
      "Validation error is 1705.86 and validation accuracy is 93.34%\n",
      "---------------------------------------------\n",
      "Epoch 39\n",
      "Error is 1331.33; Accuracy is 95.31%\n",
      "Validation error is 1708.79 and validation accuracy is 93.19%\n",
      "---------------------------------------------\n",
      "Epoch 40\n",
      "Error is 1332.15; Accuracy is 95.23%\n",
      "Validation error is 1718.64 and validation accuracy is 93.17%\n",
      "---------------------------------------------\n",
      "Epoch 41\n",
      "Error is 1302.04; Accuracy is 95.14%\n",
      "Validation error is 1680.41 and validation accuracy is 93.28%\n",
      "---------------------------------------------\n",
      "Epoch 42\n",
      "Error is 1306.63; Accuracy is 95.31%\n",
      "Validation error is 1694.69 and validation accuracy is 93.34%\n",
      "---------------------------------------------\n",
      "Epoch 43\n",
      "Error is 1247.11; Accuracy is 95.50%\n",
      "Validation error is 1648.18 and validation accuracy is 93.54%\n",
      "---------------------------------------------\n",
      "Epoch 44\n",
      "Error is 1217.67; Accuracy is 95.51%\n",
      "Validation error is 1637.91 and validation accuracy is 93.34%\n",
      "---------------------------------------------\n",
      "Epoch 45\n",
      "Error is 1230.41; Accuracy is 95.63%\n",
      "Validation error is 1632.89 and validation accuracy is 93.36%\n",
      "---------------------------------------------\n",
      "Epoch 46\n",
      "Error is 1235.75; Accuracy is 95.52%\n",
      "Validation error is 1658.94 and validation accuracy is 93.34%\n",
      "---------------------------------------------\n",
      "Epoch 47\n",
      "Error is 1238.48; Accuracy is 95.43%\n",
      "Validation error is 1645.85 and validation accuracy is 93.37%\n",
      "---------------------------------------------\n",
      "Epoch 48\n",
      "Error is 1224.98; Accuracy is 95.54%\n",
      "Validation error is 1628.88 and validation accuracy is 93.38%\n",
      "---------------------------------------------\n",
      "Epoch 49\n",
      "Error is 1170.51; Accuracy is 95.64%\n",
      "Validation error is 1592.30 and validation accuracy is 93.42%\n",
      "---------------------------------------------\n",
      "Epoch 50\n",
      "Error is 1188.46; Accuracy is 95.65%\n",
      "Validation error is 1615.43 and validation accuracy is 93.44%\n",
      "---------------------------------------------\n",
      "Epoch 51\n",
      "Error is 1142.64; Accuracy is 95.93%\n",
      "Validation error is 1603.82 and validation accuracy is 93.54%\n",
      "---------------------------------------------\n",
      "Epoch 52\n",
      "Error is 1149.83; Accuracy is 95.91%\n",
      "Validation error is 1601.60 and validation accuracy is 93.49%\n",
      "---------------------------------------------\n",
      "Epoch 53\n",
      "Error is 1112.77; Accuracy is 96.09%\n",
      "Validation error is 1572.68 and validation accuracy is 93.58%\n",
      "---------------------------------------------\n",
      "Epoch 54\n",
      "Error is 1129.29; Accuracy is 95.97%\n",
      "Validation error is 1593.51 and validation accuracy is 93.59%\n",
      "---------------------------------------------\n",
      "Epoch 55\n",
      "Error is 1111.83; Accuracy is 96.11%\n",
      "Validation error is 1592.55 and validation accuracy is 93.39%\n",
      "---------------------------------------------\n",
      "Epoch 56\n",
      "Error is 1096.69; Accuracy is 96.11%\n",
      "Validation error is 1560.64 and validation accuracy is 93.50%\n",
      "---------------------------------------------\n",
      "Epoch 57\n",
      "Error is 1081.05; Accuracy is 96.11%\n",
      "Validation error is 1559.85 and validation accuracy is 93.85%\n",
      "---------------------------------------------\n",
      "Epoch 58\n",
      "Error is 1057.92; Accuracy is 96.26%\n",
      "Validation error is 1548.16 and validation accuracy is 93.62%\n",
      "---------------------------------------------\n",
      "Epoch 59\n",
      "Error is 1054.33; Accuracy is 96.31%\n",
      "Validation error is 1542.78 and validation accuracy is 93.64%\n",
      "---------------------------------------------\n",
      "Epoch 60\n",
      "Error is 1063.94; Accuracy is 96.21%\n",
      "Validation error is 1549.79 and validation accuracy is 93.70%\n",
      "---------------------------------------------\n",
      "Epoch 61\n",
      "Error is 1059.51; Accuracy is 96.14%\n",
      "Validation error is 1557.90 and validation accuracy is 93.53%\n",
      "---------------------------------------------\n",
      "Epoch 62\n",
      "Error is 1086.22; Accuracy is 96.12%\n",
      "Validation error is 1574.63 and validation accuracy is 93.72%\n",
      "---------------------------------------------\n",
      "Epoch 63\n",
      "Error is 1031.70; Accuracy is 96.37%\n",
      "Validation error is 1532.27 and validation accuracy is 93.77%\n",
      "---------------------------------------------\n",
      "Epoch 64\n",
      "Error is 1019.94; Accuracy is 96.42%\n",
      "Validation error is 1523.05 and validation accuracy is 93.83%\n",
      "---------------------------------------------\n",
      "Epoch 65\n",
      "Error is 1000.20; Accuracy is 96.45%\n",
      "Validation error is 1525.39 and validation accuracy is 93.84%\n",
      "---------------------------------------------\n",
      "Epoch 66\n",
      "Error is 960.76; Accuracy is 96.55%\n",
      "Validation error is 1472.60 and validation accuracy is 93.80%\n",
      "---------------------------------------------\n",
      "Epoch 67\n",
      "Error is 955.16; Accuracy is 96.66%\n",
      "Validation error is 1487.38 and validation accuracy is 93.90%\n",
      "---------------------------------------------\n",
      "Epoch 68\n",
      "Error is 966.61; Accuracy is 96.57%\n",
      "Validation error is 1488.64 and validation accuracy is 93.88%\n",
      "---------------------------------------------\n",
      "Epoch 69\n",
      "Error is 979.94; Accuracy is 96.54%\n",
      "Validation error is 1505.58 and validation accuracy is 93.73%\n",
      "---------------------------------------------\n",
      "Epoch 70\n",
      "Error is 950.70; Accuracy is 96.56%\n",
      "Validation error is 1478.67 and validation accuracy is 93.81%\n",
      "---------------------------------------------\n",
      "Epoch 71\n",
      "Error is 927.31; Accuracy is 96.76%\n",
      "Validation error is 1468.28 and validation accuracy is 93.76%\n",
      "---------------------------------------------\n",
      "Epoch 72\n",
      "Error is 912.31; Accuracy is 96.80%\n",
      "Validation error is 1456.63 and validation accuracy is 94.14%\n",
      "---------------------------------------------\n",
      "Epoch 73\n",
      "Error is 919.67; Accuracy is 96.65%\n",
      "Validation error is 1450.03 and validation accuracy is 94.11%\n",
      "---------------------------------------------\n",
      "Epoch 74\n",
      "Error is 929.00; Accuracy is 96.56%\n",
      "Validation error is 1453.81 and validation accuracy is 93.90%\n",
      "---------------------------------------------\n",
      "Epoch 75\n",
      "Error is 938.47; Accuracy is 96.71%\n",
      "Validation error is 1461.29 and validation accuracy is 93.93%\n",
      "---------------------------------------------\n",
      "Epoch 76\n",
      "Error is 919.48; Accuracy is 96.69%\n",
      "Validation error is 1459.04 and validation accuracy is 94.14%\n",
      "---------------------------------------------\n",
      "Epoch 77\n",
      "Error is 913.45; Accuracy is 96.83%\n",
      "Validation error is 1456.73 and validation accuracy is 94.16%\n",
      "---------------------------------------------\n",
      "Epoch 78\n",
      "Error is 896.68; Accuracy is 96.91%\n",
      "Validation error is 1445.49 and validation accuracy is 94.08%\n",
      "---------------------------------------------\n",
      "Epoch 79\n",
      "Error is 887.60; Accuracy is 96.92%\n",
      "Validation error is 1437.84 and validation accuracy is 94.03%\n",
      "---------------------------------------------\n",
      "Epoch 80\n",
      "Error is 912.02; Accuracy is 96.83%\n",
      "Validation error is 1443.23 and validation accuracy is 94.12%\n",
      "---------------------------------------------\n",
      "Epoch 81\n",
      "Error is 912.97; Accuracy is 96.80%\n",
      "Validation error is 1449.04 and validation accuracy is 93.99%\n",
      "---------------------------------------------\n",
      "Epoch 82\n",
      "Error is 885.51; Accuracy is 96.86%\n",
      "Validation error is 1438.38 and validation accuracy is 94.08%\n",
      "---------------------------------------------\n",
      "Epoch 83\n",
      "Error is 900.84; Accuracy is 96.79%\n",
      "Validation error is 1446.04 and validation accuracy is 94.03%\n",
      "---------------------------------------------\n",
      "Epoch 84\n",
      "Error is 879.85; Accuracy is 97.03%\n",
      "Validation error is 1437.30 and validation accuracy is 93.94%\n",
      "---------------------------------------------\n",
      "Epoch 85\n",
      "Error is 851.48; Accuracy is 96.96%\n",
      "Validation error is 1424.05 and validation accuracy is 94.04%\n",
      "---------------------------------------------\n",
      "Epoch 86\n",
      "Error is 816.72; Accuracy is 97.16%\n",
      "Validation error is 1415.21 and validation accuracy is 94.10%\n",
      "---------------------------------------------\n",
      "Epoch 87\n",
      "Error is 826.75; Accuracy is 97.16%\n",
      "Validation error is 1420.84 and validation accuracy is 94.12%\n",
      "---------------------------------------------\n",
      "Epoch 88\n",
      "Error is 843.98; Accuracy is 97.13%\n",
      "Validation error is 1411.16 and validation accuracy is 94.05%\n",
      "---------------------------------------------\n",
      "Epoch 89\n",
      "Error is 835.08; Accuracy is 97.14%\n",
      "Validation error is 1404.26 and validation accuracy is 94.14%\n",
      "---------------------------------------------\n",
      "Epoch 90\n",
      "Error is 827.16; Accuracy is 97.15%\n",
      "Validation error is 1421.20 and validation accuracy is 94.20%\n",
      "---------------------------------------------\n",
      "Epoch 91\n",
      "Error is 819.56; Accuracy is 97.25%\n",
      "Validation error is 1411.23 and validation accuracy is 94.12%\n",
      "---------------------------------------------\n",
      "Epoch 92\n",
      "Error is 775.41; Accuracy is 97.31%\n",
      "Validation error is 1385.20 and validation accuracy is 94.33%\n",
      "---------------------------------------------\n",
      "Epoch 93\n",
      "Error is 780.82; Accuracy is 97.42%\n",
      "Validation error is 1386.37 and validation accuracy is 94.29%\n",
      "---------------------------------------------\n",
      "Epoch 94\n",
      "Error is 787.03; Accuracy is 97.44%\n",
      "Validation error is 1394.40 and validation accuracy is 94.29%\n",
      "---------------------------------------------\n",
      "Epoch 95\n",
      "Error is 795.59; Accuracy is 97.32%\n",
      "Validation error is 1392.36 and validation accuracy is 94.20%\n",
      "---------------------------------------------\n",
      "Epoch 96\n",
      "Error is 820.15; Accuracy is 97.19%\n",
      "Validation error is 1404.43 and validation accuracy is 94.04%\n",
      "---------------------------------------------\n",
      "Epoch 97\n",
      "Error is 780.39; Accuracy is 97.39%\n",
      "Validation error is 1403.12 and validation accuracy is 94.07%\n",
      "---------------------------------------------\n",
      "Epoch 98\n",
      "Error is 744.39; Accuracy is 97.43%\n",
      "Validation error is 1391.34 and validation accuracy is 94.14%\n",
      "---------------------------------------------\n",
      "Epoch 99\n",
      "Error is 758.68; Accuracy is 97.38%\n",
      "Validation error is 1393.72 and validation accuracy is 94.16%\n",
      "---------------------------------------------\n",
      "Final training accuracy is 97.38%\n"
     ]
    }
   ],
   "source": [
    "input_layer = 784\n",
    "hidden_layer = 128\n",
    "output_layer = 10\n",
    "\n",
    "w1 = np.random.normal(0,\n",
    "                      1/np.sqrt(input_layer),\n",
    "                      size = (hidden_layer,input_layer))\n",
    "\n",
    "w2 = np.random.normal(0,\n",
    "                      1/np.sqrt(hidden_layer),\n",
    "                      size = (output_layer,hidden_layer))\n",
    "\n",
    "b1 = np.ones((hidden_layer,1))\n",
    "\n",
    "b2 = np.ones((output_layer,1))\n",
    "\n",
    "lr = .001\n",
    "epochs = [x for x in range(100)]\n",
    "train_error = []\n",
    "valid_error = []\n",
    "Error = 0\n",
    "for epoch in epochs:\n",
    "    error = 0\n",
    "    cnt = 0\n",
    "    cnt_v = 0\n",
    "    error_v = 0\n",
    "    for i in range(size):\n",
    "        # get the true value\n",
    "        t  = y_train[i].reshape(output_layer,1)\n",
    "        tV = y_valid[i].reshape(output_layer,1)\n",
    "        # set nodes\n",
    "        x0 = X_train[i].reshape(input_layer,1)\n",
    "        x1 = sigmoid(w1.dot(x0)+b1)\n",
    "        x2 = sigmoid(w2.dot(x1)+b2)\n",
    "        # calculate errors\n",
    "        error += np.sum((x2 - t)*(x2 - t))\n",
    "        derr = (x2 - t)\n",
    "        \n",
    "        x_valid_0 = X_valid[i].reshape(input_layer,1)\n",
    "        x_valid_1 = sigmoid(w1.dot(x_valid_0)+b1)\n",
    "        x_valid_2 = sigmoid(w2.dot(x_valid_1)+b2)\n",
    "        error_v += np.sum((x_valid_2 - tV)**2)\n",
    "        \n",
    "        \n",
    "        #calculate deltas\n",
    "        delta_layer2 = (derr * (x2 * (1-x2)))        \n",
    "        delta_layer1 = (((w2.T).dot(delta_layer2)) * (x1 * (1-x1)))\n",
    "        \n",
    "        #clean up notation\n",
    "        w2 = w2 - lr * delta_layer2.dot(x1.T)\n",
    "        b2 = b2 - lr * delta_layer2\n",
    "        w1 = w1 - lr * delta_layer1.dot(x0.T)\n",
    "        b1 = b1 - lr * delta_layer1\n",
    "        #calculate how many are correct, for accuracy\n",
    "        \n",
    "        cnt_v += np.argmax(x_valid_2) == np.argmax(tV)\n",
    "        cnt += np.argmax(x2) == np.argmax(t)\n",
    "    train_error.append(error)\n",
    "    valid_error.append(error_v)\n",
    "    if epoch%1 == 0:\n",
    "        print(f'Epoch {epoch}')\n",
    "        print(f'Error is {error:.2f}; Accuracy is {100*cnt/size:.2f}%')\n",
    "        print(f'Validation error is {error_v:.2f} and validation accuracy is {100*cnt_v/size:.2f}%')\n",
    "        print(\"---------------------------------------------\")\n",
    "print(f'Final training accuracy is {100*cnt/size:.2f}%')"
   ]
  },
  {
   "cell_type": "code",
   "execution_count": 39,
   "metadata": {},
   "outputs": [
    {
     "name": "stdout",
     "output_type": "stream",
     "text": [
      "Number of test samples is: 42000\n"
     ]
    },
    {
     "name": "stderr",
     "output_type": "stream",
     "text": [
      "/Users/christiansutton/opt/anaconda3/lib/python3.7/site-packages/ipykernel_launcher.py:2: RuntimeWarning: overflow encountered in exp\n",
      "  \n"
     ]
    },
    {
     "name": "stdout",
     "output_type": "stream",
     "text": [
      "Testing accuracy is 94.03%\n"
     ]
    }
   ],
   "source": [
    "cnt = 0\n",
    "print(f'Number of test samples is: {test_size}')\n",
    "for i in range(test_size):\n",
    "    t = y_test_final[i].reshape(output_layer,1)\n",
    "    # set nodes\n",
    "    x0 = X_test_final[i].reshape(input_layer,1)\n",
    "    x1 = sigmoid(w1.dot(x0)+b1)\n",
    "    x2 = sigmoid(w2.dot(x1)+b2)\n",
    "    cnt += np.argmax(x2) == np.argmax(t)\n",
    "print(f'Testing accuracy is {100 * cnt/(test_size):.2f}%')"
   ]
  },
  {
   "cell_type": "code",
   "execution_count": 40,
   "metadata": {},
   "outputs": [
    {
     "name": "stdout",
     "output_type": "stream",
     "text": [
      "Please input a digit:\n"
     ]
    },
    {
     "name": "stdin",
     "output_type": "stream",
     "text": [
      " 420\n"
     ]
    },
    {
     "name": "stdout",
     "output_type": "stream",
     "text": [
      "The queried digit is 8.  The correct digit is 8\n"
     ]
    },
    {
     "data": {
      "image/png": "[encoded data removed]",
      "text/plain": [
       "<Figure size 432x288 with 1 Axes>"
      ]
     },
     "metadata": {
      "needs_background": "light"
     },
     "output_type": "display_data"
    }
   ],
   "source": [
    "print('Please input a digit:')\n",
    "i = int(input())\n",
    "blind = X_test_final[i].reshape(28,28)                                 \n",
    "plt.imshow(blind,cmap='gray')\n",
    "x0 = X_test_final[i].reshape(input_layer,1)\n",
    "x1 = sigmoid(w1.dot(x0)+b1)\n",
    "x2 = sigmoid(w2.dot(x1)+b2)\n",
    "print(f'The queried digit is {np.argmax(x2)}.  The correct digit is {np.argmax(y_test_final[i])}')"
   ]
  },
  {
   "cell_type": "code",
   "execution_count": 41,
   "metadata": {},
   "outputs": [
    {
     "data": {
      "text/plain": [
       "<matplotlib.image.AxesImage at 0x1a1c9bfb50>"
      ]
     },
     "execution_count": 41,
     "metadata": {},
     "output_type": "execute_result"
    },
    {
     "data": {
      "image/png": "[encoded data removed]",
      "text/plain": [
       "<Figure size 432x288 with 1 Axes>"
      ]
     },
     "metadata": {
      "needs_background": "light"
     },
     "output_type": "display_data"
    }
   ],
   "source": [
    "plt.imshow(w2,cmap='gray')"
   ]
  },
  {
   "cell_type": "code",
   "execution_count": 42,
   "metadata": {},
   "outputs": [
    {
     "data": {
      "text/plain": [
       "<matplotlib.image.AxesImage at 0x1a1c24b250>"
      ]
     },
     "execution_count": 42,
     "metadata": {},
     "output_type": "execute_result"
    },
    {
     "data": {
      "image/png": "[encoded data removed]",
      "text/plain": [
       "<Figure size 432x288 with 1 Axes>"
      ]
     },
     "metadata": {
      "needs_background": "light"
     },
     "output_type": "display_data"
    }
   ],
   "source": [
    "plt.imshow(w1,aspect=10,cmap='gray')"
   ]
  },
  {
   "cell_type": "code",
   "execution_count": 43,
   "metadata": {},
   "outputs": [
    {
     "data": {
      "text/plain": [
       "100"
      ]
     },
     "execution_count": 43,
     "metadata": {},
     "output_type": "execute_result"
    }
   ],
   "source": [
    "len(train_error)"
   ]
  },
  {
   "cell_type": "code",
   "execution_count": 48,
   "metadata": {},
   "outputs": [],
   "source": [
    "x = np.arange(100)"
   ]
  },
  {
   "cell_type": "code",
   "execution_count": 49,
   "metadata": {},
   "outputs": [
    {
     "data": {
      "text/plain": [
       "array([ 0,  1,  2,  3,  4,  5,  6,  7,  8,  9, 10, 11, 12, 13, 14, 15, 16,\n",
       "       17, 18, 19, 20, 21, 22, 23, 24, 25, 26, 27, 28, 29, 30, 31, 32, 33,\n",
       "       34, 35, 36, 37, 38, 39, 40, 41, 42, 43, 44, 45, 46, 47, 48, 49, 50,\n",
       "       51, 52, 53, 54, 55, 56, 57, 58, 59, 60, 61, 62, 63, 64, 65, 66, 67,\n",
       "       68, 69, 70, 71, 72, 73, 74, 75, 76, 77, 78, 79, 80, 81, 82, 83, 84,\n",
       "       85, 86, 87, 88, 89, 90, 91, 92, 93, 94, 95, 96, 97, 98, 99])"
      ]
     },
     "execution_count": 49,
     "metadata": {},
     "output_type": "execute_result"
    }
   ],
   "source": [
    "x"
   ]
  },
  {
   "cell_type": "code",
   "execution_count": 50,
   "metadata": {},
   "outputs": [],
   "source": [
    "tr = np.array(train_error)\n",
    "vd = np.array(valid_error)"
   ]
  },
  {
   "cell_type": "code",
   "execution_count": 52,
   "metadata": {},
   "outputs": [
    {
     "data": {
      "image/png": "[encoded data removed]",
      "text/plain": [
       "<Figure size 432x288 with 1 Axes>"
      ]
     },
     "metadata": {
      "needs_background": "light"
     },
     "output_type": "display_data"
    }
   ],
   "source": [
    "plt.plot(x,np.log(tr),label='train')\n",
    "plt.plot(x,np.log(vd),label='valid')\n",
    "plt.show()"
   ]
  },
  {
   "cell_type": "code",
   "execution_count": null,
   "metadata": {},
   "outputs": [],
   "source": []
  }
 ],
 "metadata": {
  "kernelspec": {
   "display_name": "Python 3",
   "language": "python",
   "name": "python3"
  },
  "language_info": {
   "codemirror_mode": {
    "name": "ipython",
    "version": 3
   },
   "file_extension": ".py",
   "mimetype": "text/x-python",
   "name": "python",
   "nbconvert_exporter": "python",
   "pygments_lexer": "ipython3",
   "version": "3.7.6"
  }
 },
 "nbformat": 4,
 "nbformat_minor": 4
}
