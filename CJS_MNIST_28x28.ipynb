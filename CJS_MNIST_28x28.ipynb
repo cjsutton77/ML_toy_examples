{
 "cells": [
  {
   "cell_type": "code",
   "execution_count": 1,
   "metadata": {},
   "outputs": [],
   "source": [
    "import numpy as np\n",
    "from sklearn.datasets import fetch_openml\n",
    "from sklearn.model_selection import train_test_split"
   ]
  },
  {
   "cell_type": "code",
   "execution_count": 2,
   "metadata": {},
   "outputs": [],
   "source": [
    "import matplotlib.pyplot as plt"
   ]
  },
  {
   "cell_type": "code",
   "execution_count": 3,
   "metadata": {},
   "outputs": [],
   "source": [
    "mnist = fetch_openml('mnist_784', version=1, cache=True)"
   ]
  },
  {
   "cell_type": "code",
   "execution_count": 4,
   "metadata": {},
   "outputs": [
    {
     "data": {
      "text/plain": [
       "['data', 'target', 'feature_names', 'DESCR', 'details', 'categories', 'url']"
      ]
     },
     "execution_count": 4,
     "metadata": {},
     "output_type": "execute_result"
    }
   ],
   "source": [
    "list(mnist)"
   ]
  },
  {
   "cell_type": "code",
   "execution_count": 5,
   "metadata": {},
   "outputs": [
    {
     "data": {
      "text/plain": [
       "(70000, 784)"
      ]
     },
     "execution_count": 5,
     "metadata": {},
     "output_type": "execute_result"
    }
   ],
   "source": [
    "mnist.data.shape"
   ]
  },
  {
   "cell_type": "code",
   "execution_count": 6,
   "metadata": {},
   "outputs": [
    {
     "data": {
      "text/plain": [
       "(70000,)"
      ]
     },
     "execution_count": 6,
     "metadata": {},
     "output_type": "execute_result"
    }
   ],
   "source": [
    "mnist.target.shape"
   ]
  },
  {
   "cell_type": "code",
   "execution_count": 7,
   "metadata": {},
   "outputs": [
    {
     "data": {
      "text/plain": [
       "<matplotlib.image.AxesImage at 0x1fb29476048>"
      ]
     },
     "execution_count": 7,
     "metadata": {},
     "output_type": "execute_result"
    },
    {
     "data": {
      "image/png": "[encoded data removed]",
      "text/plain": [
       "<Figure size 432x288 with 1 Axes>"
      ]
     },
     "metadata": {
      "needs_background": "light"
     },
     "output_type": "display_data"
    }
   ],
   "source": [
    "plt.imshow(mnist.data[100].reshape(28,28),cmap='gray')"
   ]
  },
  {
   "cell_type": "code",
   "execution_count": 8,
   "metadata": {},
   "outputs": [],
   "source": [
    "images = (0.99 * mnist.data)/ 255"
   ]
  },
  {
   "cell_type": "code",
   "execution_count": 9,
   "metadata": {},
   "outputs": [
    {
     "name": "stdout",
     "output_type": "stream",
     "text": [
      "0.99 0.0\n"
     ]
    }
   ],
   "source": [
    "print(np.max(images[0]),np.min(images[0]))"
   ]
  },
  {
   "cell_type": "code",
   "execution_count": 10,
   "metadata": {},
   "outputs": [],
   "source": [
    "def sigmoid(x):\n",
    "    return 1/(1+np.exp(-x))"
   ]
  },
  {
   "cell_type": "code",
   "execution_count": 11,
   "metadata": {},
   "outputs": [
    {
     "name": "stdout",
     "output_type": "stream",
     "text": [
      "70000\n"
     ]
    }
   ],
   "source": [
    "num = mnist.target.shape[0]\n",
    "print(num)"
   ]
  },
  {
   "cell_type": "code",
   "execution_count": 12,
   "metadata": {},
   "outputs": [],
   "source": [
    "# one-hot encode the y_true values\n",
    "y_true = np.zeros((num,10))\n",
    "for i in range(num):\n",
    "    y_true[i,int(mnist.target[i])] = 1"
   ]
  },
  {
   "cell_type": "code",
   "execution_count": 13,
   "metadata": {},
   "outputs": [
    {
     "name": "stdout",
     "output_type": "stream",
     "text": [
      "14000\n"
     ]
    }
   ],
   "source": [
    "X_train,X_test,y_train,y_test = \\\n",
    "train_test_split(mnist.data,\n",
    "                 y_true,\n",
    "                 test_size = 0.8, \n",
    "                 random_state = 42)\n",
    "size = X_train.shape[0]\n",
    "print(size)\n",
    "#for i in range(size):\n",
    "#    print(np.argmax(y_train[i]))"
   ]
  },
  {
   "cell_type": "code",
   "execution_count": 14,
   "metadata": {},
   "outputs": [],
   "source": [
    "X_valid,y_valid = X_test[:14000],y_test[:14000]\n",
    "X_test_final,y_test_final = X_test[14000:],y_test[14000:]"
   ]
  },
  {
   "cell_type": "code",
   "execution_count": 15,
   "metadata": {},
   "outputs": [
    {
     "name": "stdout",
     "output_type": "stream",
     "text": [
      "(14000, 784)\n",
      "(42000, 784)\n"
     ]
    }
   ],
   "source": [
    "print(X_valid.shape)\n",
    "print(X_test_final.shape)\n",
    "test_size = X_test_final.shape[0]"
   ]
  },
  {
   "cell_type": "code",
   "execution_count": 16,
   "metadata": {},
   "outputs": [
    {
     "name": "stdout",
     "output_type": "stream",
     "text": [
      "Epoch 0\n",
      "Error is 9658.78234; Accuracy is 61.66%\n",
      "Validation error is 9661.718583878175 and validation accuracy is 61.49%\n",
      "---------------------------------------------\n",
      "Epoch 1\n",
      "Error is 5645.67288; Accuracy is 83.35%\n",
      "Validation error is 5705.719643023233 and validation accuracy is 82.53%\n",
      "---------------------------------------------\n",
      "Epoch 2\n",
      "Error is 4275.04610; Accuracy is 87.29%\n",
      "Validation error is 4352.9573080328555 and validation accuracy is 86.63%\n",
      "---------------------------------------------\n",
      "Epoch 3\n",
      "Error is 3579.10958; Accuracy is 88.90%\n",
      "Validation error is 3697.7357430056063 and validation accuracy is 87.89%\n",
      "---------------------------------------------\n",
      "Epoch 4\n",
      "Error is 3161.46946; Accuracy is 89.69%\n",
      "Validation error is 3285.017368093506 and validation accuracy is 89.14%\n",
      "---------------------------------------------\n",
      "Epoch 5\n",
      "Error is 2875.86922; Accuracy is 90.50%\n",
      "Validation error is 3041.053752790569 and validation accuracy is 89.53%\n",
      "---------------------------------------------\n",
      "Epoch 6\n",
      "Error is 2661.99943; Accuracy is 90.84%\n",
      "Validation error is 2834.906696039723 and validation accuracy is 90.19%\n",
      "---------------------------------------------\n",
      "Epoch 7\n",
      "Error is 2488.16103; Accuracy is 91.41%\n",
      "Validation error is 2700.6385131640586 and validation accuracy is 90.11%\n",
      "---------------------------------------------\n",
      "Epoch 8\n",
      "Error is 2394.64628; Accuracy is 91.83%\n",
      "Validation error is 2601.1993189200034 and validation accuracy is 90.63%\n",
      "---------------------------------------------\n",
      "Epoch 9\n",
      "Error is 2293.52504; Accuracy is 91.87%\n",
      "Validation error is 2516.2109590398445 and validation accuracy is 90.98%\n",
      "---------------------------------------------\n",
      "Epoch 10\n",
      "Error is 2204.32597; Accuracy is 92.41%\n",
      "Validation error is 2413.7389476630638 and validation accuracy is 91.08%\n",
      "---------------------------------------------\n",
      "Epoch 11\n",
      "Error is 2086.41064; Accuracy is 92.66%\n",
      "Validation error is 2301.4532544609197 and validation accuracy is 91.59%\n",
      "---------------------------------------------\n",
      "Epoch 12\n",
      "Error is 2009.28049; Accuracy is 92.71%\n",
      "Validation error is 2243.345816667199 and validation accuracy is 91.58%\n",
      "---------------------------------------------\n",
      "Epoch 13\n",
      "Error is 1955.81627; Accuracy is 93.01%\n",
      "Validation error is 2201.7075788620164 and validation accuracy is 91.60%\n",
      "---------------------------------------------\n",
      "Epoch 14\n",
      "Error is 1893.18431; Accuracy is 93.19%\n",
      "Validation error is 2127.647892420449 and validation accuracy is 92.09%\n",
      "---------------------------------------------\n",
      "Epoch 15\n",
      "Error is 1836.83547; Accuracy is 93.52%\n",
      "Validation error is 2108.899838393951 and validation accuracy is 91.90%\n",
      "---------------------------------------------\n",
      "Epoch 16\n",
      "Error is 1805.55985; Accuracy is 93.51%\n",
      "Validation error is 2066.280294195846 and validation accuracy is 92.14%\n",
      "---------------------------------------------\n",
      "Epoch 17\n",
      "Error is 1769.01042; Accuracy is 93.68%\n",
      "Validation error is 2055.6894135678017 and validation accuracy is 92.14%\n",
      "---------------------------------------------\n",
      "Epoch 18\n",
      "Error is 1707.64402; Accuracy is 93.84%\n",
      "Validation error is 2003.7914934014655 and validation accuracy is 92.30%\n",
      "---------------------------------------------\n",
      "Epoch 19\n",
      "Error is 1668.53348; Accuracy is 93.94%\n",
      "Validation error is 1975.6158835715355 and validation accuracy is 92.08%\n",
      "---------------------------------------------\n",
      "Epoch 20\n",
      "Error is 1615.04495; Accuracy is 94.01%\n",
      "Validation error is 1915.164203040268 and validation accuracy is 92.60%\n",
      "---------------------------------------------\n",
      "Epoch 21\n",
      "Error is 1581.52985; Accuracy is 94.29%\n",
      "Validation error is 1881.8169808974903 and validation accuracy is 92.64%\n",
      "---------------------------------------------\n",
      "Epoch 22\n",
      "Error is 1561.18301; Accuracy is 94.21%\n",
      "Validation error is 1887.1339278952644 and validation accuracy is 92.56%\n",
      "---------------------------------------------\n",
      "Epoch 23\n",
      "Error is 1529.96919; Accuracy is 94.43%\n",
      "Validation error is 1837.4504378445852 and validation accuracy is 92.79%\n",
      "---------------------------------------------\n",
      "Epoch 24\n",
      "Error is 1469.01582; Accuracy is 94.64%\n",
      "Validation error is 1819.8103326348896 and validation accuracy is 92.94%\n",
      "---------------------------------------------\n",
      "Epoch 25\n",
      "Error is 1476.39183; Accuracy is 94.82%\n",
      "Validation error is 1815.2355644235492 and validation accuracy is 93.16%\n",
      "---------------------------------------------\n",
      "Epoch 26\n",
      "Error is 1468.50729; Accuracy is 94.60%\n",
      "Validation error is 1794.6831264193393 and validation accuracy is 93.00%\n",
      "---------------------------------------------\n",
      "Epoch 27\n",
      "Error is 1424.10149; Accuracy is 94.81%\n",
      "Validation error is 1781.4690002101736 and validation accuracy is 93.01%\n",
      "---------------------------------------------\n",
      "Epoch 28\n",
      "Error is 1423.43631; Accuracy is 94.76%\n",
      "Validation error is 1782.7642691163294 and validation accuracy is 92.89%\n",
      "---------------------------------------------\n",
      "Epoch 29\n",
      "Error is 1413.52324; Accuracy is 95.01%\n",
      "Validation error is 1777.6612942447416 and validation accuracy is 93.05%\n",
      "---------------------------------------------\n",
      "Final training accuracy is 95.01%\n"
     ]
    }
   ],
   "source": [
    "input_layer = 784\n",
    "hidden_layer = 128\n",
    "output_layer = 10\n",
    "\n",
    "w1 = np.random.normal(0,\n",
    "                      1/np.sqrt(input_layer),\n",
    "                      size = (hidden_layer,input_layer))\n",
    "\n",
    "w2 = np.random.normal(0,\n",
    "                      1/np.sqrt(hidden_layer),\n",
    "                      size = (output_layer,hidden_layer))\n",
    "\n",
    "b1 = np.ones((hidden_layer,1))\n",
    "\n",
    "b2 = np.ones((output_layer,1))\n",
    "\n",
    "lr = .001\n",
    "epochs = [x for x in range(30)]\n",
    "Error = 0\n",
    "for epoch in epochs:\n",
    "    error = 0\n",
    "    cnt = 0\n",
    "    cnt_v = 0\n",
    "    error_v = 0\n",
    "    for i in range(size):\n",
    "        # get the true value\n",
    "        t  = y_train[i].reshape(output_layer,1)\n",
    "        tV = y_valid[i].reshape(output_layer,1)\n",
    "        # set nodes\n",
    "        x0 = X_train[i].reshape(input_layer,1)\n",
    "        x1 = sigmoid(w1.dot(x0)+b1)\n",
    "        x2 = sigmoid(w2.dot(x1)+b2)\n",
    "        # calculate errors\n",
    "        error += np.sum((x2 - t)*(x2 - t))\n",
    "        derr = (x2 - t)\n",
    "        \n",
    "        x_valid_0 = X_valid[i].reshape(input_layer,1)\n",
    "        x_valid_1 = sigmoid(w1.dot(x_valid_0)+b1)\n",
    "        x_valid_2 = sigmoid(w2.dot(x_valid_1)+b2)\n",
    "        error_v += np.sum((x_valid_2 - tV)**2)\n",
    "        \n",
    "        \n",
    "        #calculate deltas\n",
    "        delta_layer2 = (derr * (x2 * (1-x2)))        \n",
    "        delta_layer1 = (((w2.T).dot(delta_layer2)) * (x1 * (1-x1)))\n",
    "        \n",
    "        #clean up notation\n",
    "        w2 = w2 - lr * delta_layer2.dot(x1.T)\n",
    "        b2 = b2 - lr * delta_layer2\n",
    "        w1 = w1 - lr * delta_layer1.dot(x0.T)\n",
    "        b1 = b1 - lr * delta_layer1\n",
    "        #calculate how many are correct, for accuracy\n",
    "        \n",
    "        cnt_v += np.argmax(x_valid_2) == np.argmax(tV)\n",
    "        cnt += np.argmax(x2) == np.argmax(t)\n",
    "    if epoch%1 == 0:\n",
    "        print(f'Epoch {epoch}')\n",
    "        print(f'Error is {error:.5f}; Accuracy is {100*cnt/size:.2f}%')\n",
    "        print(f'Validation error is {error_v} and validation accuracy is {100*cnt_v/size:.2f}%')\n",
    "        print(\"---------------------------------------------\")\n",
    "print(f'Final training accuracy is {100*cnt/size:.2f}%')"
   ]
  },
  {
   "cell_type": "code",
   "execution_count": 21,
   "metadata": {},
   "outputs": [
    {
     "name": "stdout",
     "output_type": "stream",
     "text": [
      "Number of test samples is: 42000\n",
      "Testing accuracy is 92.81%\n"
     ]
    }
   ],
   "source": [
    "cnt = 0\n",
    "print(f'Number of test samples is: {test_size}')\n",
    "for i in range(test_size):\n",
    "    t = y_test_final[i].reshape(output_layer,1)\n",
    "    # set nodes\n",
    "    x0 = X_test_final[i].reshape(input_layer,1)\n",
    "    x1 = sigmoid(w1.dot(x0)+b1)\n",
    "    x2 = sigmoid(w2.dot(x1)+b2)\n",
    "    cnt += np.argmax(x2) == np.argmax(t)\n",
    "print(f'Testing accuracy is {100 * cnt/(test_size):.2f}%')"
   ]
  },
  {
   "cell_type": "code",
   "execution_count": 18,
   "metadata": {},
   "outputs": [
    {
     "name": "stdout",
     "output_type": "stream",
     "text": [
      "Please input a digit:\n",
      "420\n",
      "The queried digit is 8.  The correct digit is 8\n"
     ]
    },
    {
     "data": {
      "image/png": "[encoded data removed]",
      "text/plain": [
       "<Figure size 432x288 with 1 Axes>"
      ]
     },
     "metadata": {
      "needs_background": "light"
     },
     "output_type": "display_data"
    }
   ],
   "source": [
    "print('Please input a digit:')\n",
    "i = int(input())\n",
    "blind = X_test_final[i].reshape(28,28)                                 \n",
    "plt.imshow(blind)\n",
    "x0 = X_test_final[i].reshape(input_layer,1)\n",
    "x1 = sigmoid(w1.dot(x0)+b1)\n",
    "x2 = sigmoid(w2.dot(x1)+b2)\n",
    "print(f'The queried digit is {np.argmax(x2)}.  The correct digit is {np.argmax(y_test_final[i])}')"
   ]
  },
  {
   "cell_type": "code",
   "execution_count": 19,
   "metadata": {},
   "outputs": [
    {
     "data": {
      "text/plain": [
       "<matplotlib.image.AxesImage at 0x1fb29407088>"
      ]
     },
     "execution_count": 19,
     "metadata": {},
     "output_type": "execute_result"
    },
    {
     "data": {
      "image/png": "[encoded data removed]",
      "text/plain": [
       "<Figure size 432x288 with 1 Axes>"
      ]
     },
     "metadata": {
      "needs_background": "light"
     },
     "output_type": "display_data"
    }
   ],
   "source": [
    "plt.imshow(w2,cmap='gray')"
   ]
  },
  {
   "cell_type": "code",
   "execution_count": 20,
   "metadata": {},
   "outputs": [
    {
     "data": {
      "text/plain": [
       "<matplotlib.image.AxesImage at 0x1fb39d16248>"
      ]
     },
     "execution_count": 20,
     "metadata": {},
     "output_type": "execute_result"
    },
    {
     "data": {
      "image/png": "[encoded data removed]",
      "text/plain": [
       "<Figure size 432x288 with 1 Axes>"
      ]
     },
     "metadata": {
      "needs_background": "light"
     },
     "output_type": "display_data"
    }
   ],
   "source": [
    "plt.imshow(w1,aspect=10,cmap='gray')"
   ]
  },
  {
   "cell_type": "code",
   "execution_count": null,
   "metadata": {},
   "outputs": [],
   "source": []
  }
 ],
 "metadata": {
  "kernelspec": {
   "display_name": "Python 3",
   "language": "python",
   "name": "python3"
  },
  "language_info": {
   "codemirror_mode": {
    "name": "ipython",
    "version": 3
   },
   "file_extension": ".py",
   "mimetype": "text/x-python",
   "name": "python",
   "nbconvert_exporter": "python",
   "pygments_lexer": "ipython3",
   "version": "3.7.4"
  }
 },
 "nbformat": 4,
 "nbformat_minor": 4
}
