{
 "cells": [
  {
   "cell_type": "code",
   "execution_count": 1,
   "metadata": {},
   "outputs": [],
   "source": [
    "import numpy as np\n",
    "from sklearn.datasets import fetch_openml\n",
    "from sklearn.model_selection import train_test_split"
   ]
  },
  {
   "cell_type": "code",
   "execution_count": 2,
   "metadata": {},
   "outputs": [],
   "source": [
    "import matplotlib.pyplot as plt"
   ]
  },
  {
   "cell_type": "code",
   "execution_count": 3,
   "metadata": {},
   "outputs": [],
   "source": [
    "mnist = fetch_openml('mnist_784', version=1, cache=True)"
   ]
  },
  {
   "cell_type": "code",
   "execution_count": 4,
   "metadata": {},
   "outputs": [
    {
     "data": {
      "text/plain": [
       "['data',\n",
       " 'target',\n",
       " 'frame',\n",
       " 'feature_names',\n",
       " 'target_names',\n",
       " 'DESCR',\n",
       " 'details',\n",
       " 'categories',\n",
       " 'url']"
      ]
     },
     "execution_count": 4,
     "metadata": {},
     "output_type": "execute_result"
    }
   ],
   "source": [
    "list(mnist)"
   ]
  },
  {
   "cell_type": "code",
   "execution_count": 5,
   "metadata": {},
   "outputs": [
    {
     "data": {
      "text/plain": [
       "(70000, 784)"
      ]
     },
     "execution_count": 5,
     "metadata": {},
     "output_type": "execute_result"
    }
   ],
   "source": [
    "mnist.data.shape"
   ]
  },
  {
   "cell_type": "code",
   "execution_count": 6,
   "metadata": {},
   "outputs": [
    {
     "data": {
      "text/plain": [
       "(70000,)"
      ]
     },
     "execution_count": 6,
     "metadata": {},
     "output_type": "execute_result"
    }
   ],
   "source": [
    "mnist.target.shape"
   ]
  },
  {
   "cell_type": "code",
   "execution_count": 7,
   "metadata": {},
   "outputs": [
    {
     "data": {
      "text/plain": [
       "<matplotlib.image.AxesImage at 0x1a18ad7790>"
      ]
     },
     "execution_count": 7,
     "metadata": {},
     "output_type": "execute_result"
    },
    {
     "data": {
      "image/png": "[encoded data removed]",
      "text/plain": [
       "<Figure size 432x288 with 1 Axes>"
      ]
     },
     "metadata": {
      "needs_background": "light"
     },
     "output_type": "display_data"
    }
   ],
   "source": [
    "plt.imshow(mnist.data[100].reshape(28,28),cmap='gray')"
   ]
  },
  {
   "cell_type": "code",
   "execution_count": 8,
   "metadata": {},
   "outputs": [],
   "source": [
    "images = (0.99 * mnist.data + 0.01)/ 255"
   ]
  },
  {
   "cell_type": "code",
   "execution_count": 9,
   "metadata": {},
   "outputs": [],
   "source": [
    "def sigmoid(x):\n",
    "    return 1/(1+np.exp(-x))"
   ]
  },
  {
   "cell_type": "code",
   "execution_count": 10,
   "metadata": {},
   "outputs": [
    {
     "name": "stdout",
     "output_type": "stream",
     "text": [
      "70000\n"
     ]
    }
   ],
   "source": [
    "num = mnist.target.shape[0]\n",
    "print(num)"
   ]
  },
  {
   "cell_type": "code",
   "execution_count": 11,
   "metadata": {},
   "outputs": [],
   "source": [
    "# one-hot encode the y_true values\n",
    "y_true = np.zeros((num,10))\n",
    "for i in range(num):\n",
    "    y_true[i,int(mnist.target[i])] = 1"
   ]
  },
  {
   "cell_type": "code",
   "execution_count": 12,
   "metadata": {},
   "outputs": [
    {
     "name": "stdout",
     "output_type": "stream",
     "text": [
      "14000\n"
     ]
    }
   ],
   "source": [
    "X_train,X_test,y_train,y_test = \\\n",
    "train_test_split(mnist.data,\n",
    "                 y_true,\n",
    "                 test_size = 0.8, \n",
    "                 random_state = 42)\n",
    "size = X_train.shape[0]\n",
    "print(size)\n",
    "#for i in range(size):\n",
    "#    print(np.argmax(y_train[i]))"
   ]
  },
  {
   "cell_type": "code",
   "execution_count": 13,
   "metadata": {},
   "outputs": [
    {
     "name": "stdout",
     "output_type": "stream",
     "text": [
      "Epoch 0; Error is 11334.18580; Accuracy is 47.52%\n",
      "Epoch 1; Error is 7786.81641; Accuracy is 72.66%\n",
      "Epoch 2; Error is 6142.23323; Accuracy is 81.31%\n",
      "Epoch 3; Error is 5091.66160; Accuracy is 84.78%\n",
      "Epoch 4; Error is 4376.53389; Accuracy is 86.96%\n"
     ]
    },
    {
     "name": "stderr",
     "output_type": "stream",
     "text": [
      "/Users/christiansutton/opt/anaconda3/lib/python3.7/site-packages/ipykernel_launcher.py:2: RuntimeWarning: overflow encountered in exp\n",
      "  \n"
     ]
    },
    {
     "name": "stdout",
     "output_type": "stream",
     "text": [
      "Epoch 5; Error is 3926.73332; Accuracy is 88.20%\n",
      "Epoch 6; Error is 3569.75553; Accuracy is 88.91%\n",
      "Epoch 7; Error is 3260.55428; Accuracy is 89.81%\n",
      "Epoch 8; Error is 3135.55161; Accuracy is 89.73%\n",
      "Epoch 9; Error is 2917.42838; Accuracy is 90.46%\n",
      "Epoch 10; Error is 2833.86006; Accuracy is 90.34%\n",
      "Epoch 11; Error is 2689.95783; Accuracy is 90.87%\n",
      "Epoch 12; Error is 2624.02473; Accuracy is 91.02%\n",
      "Epoch 13; Error is 2582.82015; Accuracy is 90.96%\n",
      "Epoch 14; Error is 2490.08704; Accuracy is 91.29%\n",
      "Epoch 15; Error is 2394.27052; Accuracy is 91.65%\n",
      "Epoch 16; Error is 2341.67464; Accuracy is 91.84%\n",
      "Epoch 17; Error is 2273.63167; Accuracy is 92.11%\n",
      "Epoch 18; Error is 2271.72913; Accuracy is 91.85%\n",
      "Epoch 19; Error is 2195.38203; Accuracy is 92.08%\n",
      "Epoch 20; Error is 2244.42377; Accuracy is 91.89%\n",
      "Epoch 21; Error is 2110.16501; Accuracy is 92.32%\n",
      "Epoch 22; Error is 2069.74396; Accuracy is 92.56%\n",
      "Epoch 23; Error is 2070.96309; Accuracy is 92.61%\n",
      "Epoch 24; Error is 2027.26686; Accuracy is 92.49%\n",
      "Epoch 25; Error is 1960.17531; Accuracy is 92.68%\n",
      "Epoch 26; Error is 1981.12402; Accuracy is 92.81%\n",
      "Epoch 27; Error is 1938.08304; Accuracy is 92.94%\n",
      "Epoch 28; Error is 1881.60334; Accuracy is 92.85%\n",
      "Epoch 29; Error is 1863.59397; Accuracy is 93.27%\n",
      "Epoch 30; Error is 1855.60996; Accuracy is 93.38%\n",
      "Epoch 31; Error is 1895.95632; Accuracy is 93.11%\n",
      "Epoch 32; Error is 1830.29168; Accuracy is 93.24%\n",
      "Epoch 33; Error is 1794.99054; Accuracy is 93.34%\n",
      "Epoch 34; Error is 1786.81419; Accuracy is 93.54%\n",
      "Epoch 35; Error is 1801.38759; Accuracy is 93.40%\n",
      "Epoch 36; Error is 1735.92962; Accuracy is 93.66%\n",
      "Epoch 37; Error is 1736.65624; Accuracy is 93.56%\n",
      "Epoch 38; Error is 1698.52585; Accuracy is 93.54%\n",
      "Epoch 39; Error is 1694.61712; Accuracy is 93.51%\n",
      "Epoch 40; Error is 1641.81457; Accuracy is 93.76%\n",
      "Epoch 41; Error is 1637.32497; Accuracy is 93.64%\n",
      "Epoch 42; Error is 1643.30963; Accuracy is 93.73%\n",
      "Epoch 43; Error is 1664.38764; Accuracy is 93.96%\n",
      "Epoch 44; Error is 1636.75542; Accuracy is 93.76%\n",
      "Epoch 45; Error is 1580.59202; Accuracy is 94.07%\n",
      "Epoch 46; Error is 1597.68969; Accuracy is 93.95%\n",
      "Epoch 47; Error is 1578.14597; Accuracy is 94.03%\n",
      "Epoch 48; Error is 1576.80197; Accuracy is 94.10%\n",
      "Epoch 49; Error is 1542.83253; Accuracy is 94.16%\n",
      "---------------------------------------------\n",
      "Final training accuracy is 94.16%\n"
     ]
    }
   ],
   "source": [
    "input_layer = 784\n",
    "hidden_layer = 64\n",
    "output_layer = 10\n",
    "\n",
    "w1 = np.random.normal(0,\n",
    "                      1/np.sqrt(input_layer),\n",
    "                      size = (hidden_layer,input_layer))\n",
    "#print('w1: ',w1.shape)\n",
    "w2 = np.random.normal(0,\n",
    "                      1/np.sqrt(hidden_layer),\n",
    "                      size = (output_layer,hidden_layer))\n",
    "#print('w2: ',w2.shape)\n",
    "b1 = np.ones((hidden_layer,1))\n",
    "#print('b1: ',b1.shape)\n",
    "b2 = np.ones((output_layer,1))\n",
    "#print('b2: ',b2.shape)\n",
    "\n",
    "#w1 = w1.astype('float128')\n",
    "#w2 = w2.astype('float128')\n",
    "#b1 = b1.astype('float128')\n",
    "#b2 = b2.astype('float128')\n",
    "\n",
    "\n",
    "lr = .001\n",
    "epochs = [x for x in range(50)]\n",
    "Error = 0\n",
    "for epoch in epochs:\n",
    "    error = 0\n",
    "    cnt = 0\n",
    "    for i in range(size):\n",
    "        # get the true value\n",
    "        t = y_train[i].reshape(output_layer,1)\n",
    "        # set nodes\n",
    "        x0 = X_train[i].reshape(input_layer,1)\n",
    "        x1 = sigmoid(w1.dot(x0)+b1)\n",
    "        x2 = sigmoid(w2.dot(x1)+b2)\n",
    "        # calculate errors\n",
    "        error += np.sum((x2 - t)*(x2 - t))\n",
    "        derr = (x2 - t)\n",
    "        \n",
    "        #calculate deltas\n",
    "        delta_layer2 = (derr * (x2 * (1-x2)))        \n",
    "        delta_layer1 = (((w2.T).dot(delta_layer2)) * (x1 * (1-x1)))\n",
    "        \n",
    "        #clean up notation\n",
    "        w2 = w2 - lr * delta_layer2.dot(x1.T)\n",
    "        b2 = b2 - lr * delta_layer2\n",
    "        w1 = w1 - lr * delta_layer1.dot(x0.T)\n",
    "        b1 = b1 - lr * delta_layer1\n",
    "        #calculate how many are correct, for accuracy\n",
    "        cnt += np.argmax(x2) == np.argmax(t)\n",
    "    if epoch%1 == 0:\n",
    "        print(f'Epoch {epoch}; Error is {error:.5f}; Accuracy is {100*cnt/size:.2f}%')\n",
    "print(\"---------------------------------------------\")\n",
    "print(f'Final training accuracy is {100*cnt/size:.2f}%')"
   ]
  },
  {
   "cell_type": "code",
   "execution_count": 14,
   "metadata": {},
   "outputs": [
    {
     "name": "stdout",
     "output_type": "stream",
     "text": [
      "Number of test samples is: 56000\n"
     ]
    },
    {
     "name": "stderr",
     "output_type": "stream",
     "text": [
      "/Users/christiansutton/opt/anaconda3/lib/python3.7/site-packages/ipykernel_launcher.py:2: RuntimeWarning: overflow encountered in exp\n",
      "  \n"
     ]
    },
    {
     "name": "stdout",
     "output_type": "stream",
     "text": [
      "Testing accuracy is 92.12%\n"
     ]
    }
   ],
   "source": [
    "cnt = 0\n",
    "print(f'Number of test samples is: {num-size}')\n",
    "for i in range(num-size):\n",
    "    t = y_test[i].reshape(output_layer,1)\n",
    "    # set nodes\n",
    "    x0 = X_test[i].reshape(input_layer,1)\n",
    "    x1 = sigmoid(w1.dot(x0)+b1)\n",
    "    x2 = sigmoid(w2.dot(x1)+b2)\n",
    "    cnt += np.argmax(x2) == np.argmax(t)\n",
    "print(f'Testing accuracy is {100 * cnt/(num-size):.2f}%')"
   ]
  },
  {
   "cell_type": "code",
   "execution_count": 15,
   "metadata": {},
   "outputs": [
    {
     "name": "stdout",
     "output_type": "stream",
     "text": [
      "Please input a digit:\n"
     ]
    },
    {
     "name": "stdin",
     "output_type": "stream",
     "text": [
      " 10\n"
     ]
    },
    {
     "name": "stdout",
     "output_type": "stream",
     "text": [
      "The queried digit is 3.  The correct digit is 3\n"
     ]
    },
    {
     "data": {
      "image/png": "[encoded data removed]",
      "text/plain": [
       "<Figure size 432x288 with 1 Axes>"
      ]
     },
     "metadata": {
      "needs_background": "light"
     },
     "output_type": "display_data"
    }
   ],
   "source": [
    "print('Please input a digit:')\n",
    "i = int(input())\n",
    "blind = X_test[i].reshape(28,28)\n",
    "plt.imshow(blind)\n",
    "x0 = X_test[i].reshape(input_layer,1)\n",
    "x1 = sigmoid(w1.dot(x0)+b1)\n",
    "x2 = sigmoid(w2.dot(x1)+b2)\n",
    "print(f'The queried digit is {np.argmax(x2)}.  The correct digit is {np.argmax(y_test[i])}')"
   ]
  },
  {
   "cell_type": "code",
   "execution_count": 18,
   "metadata": {},
   "outputs": [
    {
     "data": {
      "text/plain": [
       "<matplotlib.image.AxesImage at 0x1a18ab2910>"
      ]
     },
     "execution_count": 18,
     "metadata": {},
     "output_type": "execute_result"
    },
    {
     "data": {
      "image/png": "[encoded data removed]",
      "text/plain": [
       "<Figure size 432x288 with 1 Axes>"
      ]
     },
     "metadata": {
      "needs_background": "light"
     },
     "output_type": "display_data"
    }
   ],
   "source": [
    "plt.imshow(w2,cmap='gray')"
   ]
  },
  {
   "cell_type": "code",
   "execution_count": 19,
   "metadata": {},
   "outputs": [
    {
     "data": {
      "text/plain": [
       "<matplotlib.image.AxesImage at 0x1a18a61590>"
      ]
     },
     "execution_count": 19,
     "metadata": {},
     "output_type": "execute_result"
    },
    {
     "data": {
      "image/png": "[encoded data removed]",
      "text/plain": [
       "<Figure size 432x288 with 1 Axes>"
      ]
     },
     "metadata": {
      "needs_background": "light"
     },
     "output_type": "display_data"
    }
   ],
   "source": [
    "plt.imshow(w1,aspect=10,cmap='gray')"
   ]
  },
  {
   "cell_type": "code",
   "execution_count": null,
   "metadata": {},
   "outputs": [],
   "source": []
  }
 ],
 "metadata": {
  "kernelspec": {
   "display_name": "Python 3",
   "language": "python",
   "name": "python3"
  },
  "language_info": {
   "codemirror_mode": {
    "name": "ipython",
    "version": 3
   },
   "file_extension": ".py",
   "mimetype": "text/x-python",
   "name": "python",
   "nbconvert_exporter": "python",
   "pygments_lexer": "ipython3",
   "version": "3.7.6"
  }
 },
 "nbformat": 4,
 "nbformat_minor": 4
}
