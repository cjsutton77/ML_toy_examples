{
 "cells": [
  {
   "cell_type": "code",
   "execution_count": 1,
   "metadata": {},
   "outputs": [],
   "source": [
    "import numpy as np\n",
    "from sklearn.datasets import fetch_openml\n",
    "from sklearn.model_selection import train_test_split"
   ]
  },
  {
   "cell_type": "code",
   "execution_count": 2,
   "metadata": {},
   "outputs": [],
   "source": [
    "import matplotlib.pyplot as plt"
   ]
  },
  {
   "cell_type": "code",
   "execution_count": 3,
   "metadata": {},
   "outputs": [],
   "source": [
    "mnist = fetch_openml('mnist_784', version=1, cache=True)"
   ]
  },
  {
   "cell_type": "code",
   "execution_count": 4,
   "metadata": {},
   "outputs": [
    {
     "data": {
      "text/plain": [
       "['data',\n",
       " 'target',\n",
       " 'frame',\n",
       " 'feature_names',\n",
       " 'target_names',\n",
       " 'DESCR',\n",
       " 'details',\n",
       " 'categories',\n",
       " 'url']"
      ]
     },
     "execution_count": 4,
     "metadata": {},
     "output_type": "execute_result"
    }
   ],
   "source": [
    "list(mnist)"
   ]
  },
  {
   "cell_type": "code",
   "execution_count": 5,
   "metadata": {},
   "outputs": [
    {
     "data": {
      "text/plain": [
       "(70000, 784)"
      ]
     },
     "execution_count": 5,
     "metadata": {},
     "output_type": "execute_result"
    }
   ],
   "source": [
    "mnist.data.shape"
   ]
  },
  {
   "cell_type": "code",
   "execution_count": 6,
   "metadata": {},
   "outputs": [
    {
     "data": {
      "text/plain": [
       "(70000,)"
      ]
     },
     "execution_count": 6,
     "metadata": {},
     "output_type": "execute_result"
    }
   ],
   "source": [
    "mnist.target.shape"
   ]
  },
  {
   "cell_type": "code",
   "execution_count": 7,
   "metadata": {},
   "outputs": [
    {
     "data": {
      "text/plain": [
       "<matplotlib.image.AxesImage at 0x1a17743050>"
      ]
     },
     "execution_count": 7,
     "metadata": {},
     "output_type": "execute_result"
    },
    {
     "data": {
      "image/png": "[encoded data removed]",
      "text/plain": [
       "<Figure size 432x288 with 1 Axes>"
      ]
     },
     "metadata": {
      "needs_background": "light"
     },
     "output_type": "display_data"
    }
   ],
   "source": [
    "plt.imshow(mnist.data[100].reshape(28,28),cmap='gray')"
   ]
  },
  {
   "cell_type": "code",
   "execution_count": 8,
   "metadata": {},
   "outputs": [],
   "source": [
    "images = (0.99 * mnist.data)/ 255"
   ]
  },
  {
   "cell_type": "code",
   "execution_count": 9,
   "metadata": {},
   "outputs": [
    {
     "name": "stdout",
     "output_type": "stream",
     "text": [
      "0.99 0.0\n"
     ]
    }
   ],
   "source": [
    "print(np.max(images[0]),np.min(images[0]))"
   ]
  },
  {
   "cell_type": "code",
   "execution_count": 10,
   "metadata": {},
   "outputs": [],
   "source": [
    "def sigmoid(x):\n",
    "    return 1/(1+np.exp(-x))"
   ]
  },
  {
   "cell_type": "code",
   "execution_count": 11,
   "metadata": {},
   "outputs": [
    {
     "name": "stdout",
     "output_type": "stream",
     "text": [
      "70000\n"
     ]
    }
   ],
   "source": [
    "num = mnist.target.shape[0]\n",
    "print(num)"
   ]
  },
  {
   "cell_type": "code",
   "execution_count": 12,
   "metadata": {},
   "outputs": [],
   "source": [
    "# one-hot encode the y_true values\n",
    "y_true = np.zeros((num,10))\n",
    "for i in range(num):\n",
    "    y_true[i,int(mnist.target[i])] = 1"
   ]
  },
  {
   "cell_type": "code",
   "execution_count": 13,
   "metadata": {},
   "outputs": [
    {
     "name": "stdout",
     "output_type": "stream",
     "text": [
      "14000\n"
     ]
    }
   ],
   "source": [
    "X_train,X_test,y_train,y_test = \\\n",
    "train_test_split(mnist.data,\n",
    "                 y_true,\n",
    "                 test_size = 0.8, \n",
    "                 random_state = 42)\n",
    "size = X_train.shape[0]\n",
    "print(size)\n",
    "#for i in range(size):\n",
    "#    print(np.argmax(y_train[i]))"
   ]
  },
  {
   "cell_type": "code",
   "execution_count": 14,
   "metadata": {},
   "outputs": [],
   "source": [
    "X_valid,y_valid = X_test[:14000],y_test[:14000]\n",
    "X_test_final,y_test_final = X_test[14000:],y_test[14000:]"
   ]
  },
  {
   "cell_type": "code",
   "execution_count": 15,
   "metadata": {},
   "outputs": [
    {
     "name": "stdout",
     "output_type": "stream",
     "text": [
      "(14000, 784)\n",
      "(42000, 784)\n"
     ]
    }
   ],
   "source": [
    "print(X_valid.shape)\n",
    "print(X_test_final.shape)\n",
    "test_size = X_test_final.shape[0]"
   ]
  },
  {
   "cell_type": "code",
   "execution_count": null,
   "metadata": {},
   "outputs": [
    {
     "name": "stderr",
     "output_type": "stream",
     "text": [
      "/Users/christiansutton/opt/anaconda3/lib/python3.7/site-packages/ipykernel_launcher.py:2: RuntimeWarning: overflow encountered in exp\n",
      "  \n"
     ]
    },
    {
     "name": "stdout",
     "output_type": "stream",
     "text": [
      "Epoch 0\n",
      "Error is 2.33; Accuracy is 64.88%\n",
      "Validation error is 2.33 and validation accuracy is 64.57%\n",
      "---------------------------------------------\n",
      "Epoch 1\n",
      "Error is 1.53; Accuracy is 79.89%\n",
      "Validation error is 1.53 and validation accuracy is 79.12%\n",
      "---------------------------------------------\n",
      "Epoch 2\n",
      "Error is 1.33; Accuracy is 81.73%\n",
      "Validation error is 1.34 and validation accuracy is 81.60%\n",
      "---------------------------------------------\n",
      "Epoch 3\n",
      "Error is 1.23; Accuracy is 82.56%\n",
      "Validation error is 1.25 and validation accuracy is 82.57%\n",
      "---------------------------------------------\n",
      "Epoch 4\n",
      "Error is 1.20; Accuracy is 82.41%\n",
      "Validation error is 1.22 and validation accuracy is 82.02%\n",
      "---------------------------------------------\n"
     ]
    }
   ],
   "source": [
    "input_layer = 784\n",
    "hidden_layer = 64\n",
    "output_layer = 10\n",
    "\n",
    "w1 = np.random.normal(0,\n",
    "                      1/np.sqrt(input_layer),\n",
    "                      size = (hidden_layer,input_layer))\n",
    "\n",
    "w2 = np.random.normal(0,\n",
    "                      1/np.sqrt(hidden_layer),\n",
    "                      size = (output_layer,hidden_layer))\n",
    "\n",
    "b1 = np.ones((hidden_layer,1))\n",
    "\n",
    "b2 = np.ones((output_layer,1))\n",
    "\n",
    "lr = .001\n",
    "epochs = [x for x in range(20)]\n",
    "train_error = []\n",
    "valid_error = []\n",
    "Error = 0\n",
    "for epoch in epochs:\n",
    "    error = 0\n",
    "    cnt = 0\n",
    "    cnt_v = 0\n",
    "    error_v = 0\n",
    "    for i in range(size):\n",
    "        # get the true value\n",
    "        t  = y_train[i].reshape(output_layer,1)\n",
    "        tV = y_valid[i].reshape(output_layer,1)\n",
    "        # set nodes\n",
    "        x0 = X_train[i].reshape(input_layer,1)\n",
    "        x1 = sigmoid(w1.dot(x0)+b1)\n",
    "        x2 = sigmoid(w2.dot(x1)+b2)\n",
    "        # calculate errors\n",
    "        error += np.sum( -t * np.log(x2)-(1-t) * np.log(1-x2))/size\n",
    "        derr = (x2-t)/(x2 * (1-x2))\n",
    "        \n",
    "        x_valid_0 = X_valid[i].reshape(input_layer,1)\n",
    "        x_valid_1 = sigmoid(w1.dot(x_valid_0)+b1)\n",
    "        x_valid_2 = sigmoid(w2.dot(x_valid_1)+b2)\n",
    "        error_v += np.sum( -tV * np.log(x_valid_2)-(1-tV) * np.log(1-x_valid_2))/size\n",
    "        #error_v += np.sum((x_valid_2 - tV)**2)\n",
    "        \n",
    "        \n",
    "        #calculate deltas\n",
    "        delta_layer2 = (derr * (x2 * (1-x2)))        \n",
    "        delta_layer1 = (((w2.T).dot(delta_layer2)) * (x1 * (1-x1)))\n",
    "        \n",
    "        #clean up notation\n",
    "        w2 = w2 - lr * delta_layer2.dot(x1.T)\n",
    "        b2 = b2 - lr * delta_layer2\n",
    "        w1 = w1 - lr * delta_layer1.dot(x0.T)\n",
    "        b1 = b1 - lr * delta_layer1\n",
    "        #calculate how many are correct, for accuracy\n",
    "        \n",
    "        cnt_v += np.argmax(x_valid_2) == np.argmax(tV)\n",
    "        cnt += np.argmax(x2) == np.argmax(t)\n",
    "    train_error.append(error)\n",
    "    valid_error.append(error_v)\n",
    "    if epoch%1 == 0:\n",
    "        print(f'Epoch {epoch}')\n",
    "        print(f'Error is {error:.2f}; Accuracy is {100*cnt/size:.2f}%')\n",
    "        print(f'Validation error is {error_v:.2f} and validation accuracy is {100*cnt_v/size:.2f}%')\n",
    "        print(\"---------------------------------------------\")\n",
    "print(f'Final training accuracy is {100*cnt/size:.2f}%')"
   ]
  },
  {
   "cell_type": "code",
   "execution_count": 20,
   "metadata": {},
   "outputs": [
    {
     "name": "stdout",
     "output_type": "stream",
     "text": [
      "Number of test samples is: 42000\n"
     ]
    },
    {
     "name": "stderr",
     "output_type": "stream",
     "text": [
      "/Users/christiansutton/opt/anaconda3/lib/python3.7/site-packages/ipykernel_launcher.py:2: RuntimeWarning: overflow encountered in exp\n",
      "  \n"
     ]
    },
    {
     "name": "stdout",
     "output_type": "stream",
     "text": [
      "Testing accuracy is 87.53%\n"
     ]
    }
   ],
   "source": [
    "cnt = 0\n",
    "print(f'Number of test samples is: {test_size}')\n",
    "for i in range(test_size):\n",
    "    t = y_test_final[i].reshape(output_layer,1)\n",
    "    # set nodes\n",
    "    x0 = X_test_final[i].reshape(input_layer,1)\n",
    "    x1 = sigmoid(w1.dot(x0)+b1)\n",
    "    x2 = sigmoid(w2.dot(x1)+b2)\n",
    "    cnt += np.argmax(x2) == np.argmax(t)\n",
    "print(f'Testing accuracy is {100 * cnt/(test_size):.2f}%')"
   ]
  },
  {
   "cell_type": "code",
   "execution_count": null,
   "metadata": {},
   "outputs": [
    {
     "name": "stdout",
     "output_type": "stream",
     "text": [
      "Please input a digit:\n"
     ]
    }
   ],
   "source": [
    "print('Please input a digit:')\n",
    "i = int(input())\n",
    "blind = X_test_final[i].reshape(28,28)                                 \n",
    "plt.imshow(blind,cmap='gray')\n",
    "x0 = X_test_final[i].reshape(input_layer,1)\n",
    "x1 = sigmoid(w1.dot(x0)+b1)\n",
    "x2 = sigmoid(w2.dot(x1)+b2)\n",
    "print(f'The queried digit is {np.argmax(x2)}.  The correct digit is {np.argmax(y_test_final[i])}')"
   ]
  },
  {
   "cell_type": "code",
   "execution_count": null,
   "metadata": {},
   "outputs": [],
   "source": [
    "plt.imshow(w2,cmap='gray')"
   ]
  },
  {
   "cell_type": "code",
   "execution_count": null,
   "metadata": {},
   "outputs": [],
   "source": [
    "plt.imshow(w1,aspect=10,cmap='gray')"
   ]
  },
  {
   "cell_type": "code",
   "execution_count": null,
   "metadata": {},
   "outputs": [],
   "source": []
  }
 ],
 "metadata": {
  "kernelspec": {
   "display_name": "Python 3",
   "language": "python",
   "name": "python3"
  },
  "language_info": {
   "codemirror_mode": {
    "name": "ipython",
    "version": 3
   },
   "file_extension": ".py",
   "mimetype": "text/x-python",
   "name": "python",
   "nbconvert_exporter": "python",
   "pygments_lexer": "ipython3",
   "version": "3.7.6"
  }
 },
 "nbformat": 4,
 "nbformat_minor": 4
}
