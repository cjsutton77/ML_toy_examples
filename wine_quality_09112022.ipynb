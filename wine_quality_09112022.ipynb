{
  "nbformat": 4,
  "nbformat_minor": 0,
  "metadata": {
    "colab": {
      "provenance": [],
      "collapsed_sections": [],
      "toc_visible": true,
      "authorship_tag": "ABX9TyPxow66/555r8R5E1a+Okkr",
      "include_colab_link": true
    },
    "kernelspec": {
      "name": "python3",
      "display_name": "Python 3"
    },
    "language_info": {
      "name": "python"
    }
  },
  "cells": [
    {
      "cell_type": "markdown",
      "metadata": {
        "id": "view-in-github",
        "colab_type": "text"
      },
      "source": [
        "<a href=\"https://colab.research.google.com/github/cjsutton77/ML_toy_examples/blob/master/wine_quality_09112022.ipynb\" target=\"_parent\"><img src=\"https://colab.research.google.com/assets/colab-badge.svg\" alt=\"Open In Colab\"/></a>"
      ]
    },
    {
      "cell_type": "code",
      "execution_count": 1,
      "metadata": {
        "id": "Z9UB208gNuiy"
      },
      "outputs": [],
      "source": [
        "from sklearn.datasets import load_wine"
      ]
    },
    {
      "cell_type": "code",
      "source": [
        "X,y = load_wine(return_X_y=True,as_frame=True)"
      ],
      "metadata": {
        "id": "qdq7O3N6N9kd"
      },
      "execution_count": 2,
      "outputs": []
    },
    {
      "cell_type": "code",
      "source": [
        "from sklearn.model_selection import train_test_split"
      ],
      "metadata": {
        "id": "PjtA2sj8N7aR"
      },
      "execution_count": 3,
      "outputs": []
    },
    {
      "cell_type": "code",
      "source": [
        "X_train, X_test, y_train, y_test = train_test_split(X, y, test_size=0.33, random_state=42)"
      ],
      "metadata": {
        "id": "7vmnHDQIOJb4"
      },
      "execution_count": 4,
      "outputs": []
    },
    {
      "cell_type": "code",
      "source": [
        "sum(y_train == 0),sum(y_train == 1),sum(y_train == 2)\n",
        "# check the balance of classes in the training targets"
      ],
      "metadata": {
        "colab": {
          "base_uri": "https://localhost:8080/"
        },
        "id": "XKNzavDUOyrS",
        "outputId": "06eb4ef7-ce13-4f21-94e8-883bca1d1dc2"
      },
      "execution_count": 5,
      "outputs": [
        {
          "output_type": "execute_result",
          "data": {
            "text/plain": [
              "(39, 47, 33)"
            ]
          },
          "metadata": {},
          "execution_count": 5
        }
      ]
    },
    {
      "cell_type": "code",
      "source": [
        "sum(y_test == 0),sum(y_test == 1),sum(y_test == 2)\n",
        "# check the number of classes in the test targets"
      ],
      "metadata": {
        "colab": {
          "base_uri": "https://localhost:8080/"
        },
        "id": "JbO9oY2dO1Ci",
        "outputId": "05038946-f7c9-465d-9ee2-5a1838a8ab98"
      },
      "execution_count": 6,
      "outputs": [
        {
          "output_type": "execute_result",
          "data": {
            "text/plain": [
              "(20, 24, 15)"
            ]
          },
          "metadata": {},
          "execution_count": 6
        }
      ]
    },
    {
      "cell_type": "code",
      "source": [
        "X_train.drop(['flavanoids','total_phenols'],axis=1,inplace=True)\n",
        "X_test.drop(['flavanoids','total_phenols'],axis=1,inplace=True)\n",
        "\n",
        "# looked ahead.. flavanoids and total_phenols are colinear.  I'll drop them."
      ],
      "metadata": {
        "id": "anbzU6TRm6nD"
      },
      "execution_count": 7,
      "outputs": []
    },
    {
      "cell_type": "code",
      "source": [
        "import seaborn as sns"
      ],
      "metadata": {
        "id": "u2T-uX9vPJLs"
      },
      "execution_count": 8,
      "outputs": []
    },
    {
      "cell_type": "code",
      "source": [
        "sns.heatmap(X_train.corr())\n",
        "# let's get a measure of the correlation for each feature, for co-linearity"
      ],
      "metadata": {
        "colab": {
          "base_uri": "https://localhost:8080/",
          "height": 431
        },
        "id": "I9itT6GNPMso",
        "outputId": "0e41e4c7-5f13-45fe-ae30-9acb496a987a"
      },
      "execution_count": 9,
      "outputs": [
        {
          "output_type": "execute_result",
          "data": {
            "text/plain": [
              "<matplotlib.axes._subplots.AxesSubplot at 0x7f63b368b1d0>"
            ]
          },
          "metadata": {},
          "execution_count": 9
        },
        {
          "output_type": "display_data",
          "data": {
            "text/plain": [
              "<Figure size 432x288 with 2 Axes>"
            ],
            "image/png": "[encoded data removed]"
          },
          "metadata": {
            "needs_background": "light"
          }
        }
      ]
    },
    {
      "cell_type": "code",
      "source": [
        "X_train.corr() > 0.8\n",
        "\n",
        "# same thing, but I just want to mark high correlation with True, for co-linearity"
      ],
      "metadata": {
        "colab": {
          "base_uri": "https://localhost:8080/",
          "height": 458
        },
        "id": "uW2vT_zFQGQC",
        "outputId": "d3e4974f-aaaf-48f2-ba1f-b023df68f88f"
      },
      "execution_count": 10,
      "outputs": [
        {
          "output_type": "execute_result",
          "data": {
            "text/plain": [
              "                              alcohol  malic_acid    ash  alcalinity_of_ash  \\\n",
              "alcohol                          True       False  False              False   \n",
              "malic_acid                      False        True  False              False   \n",
              "ash                             False       False   True              False   \n",
              "alcalinity_of_ash               False       False  False               True   \n",
              "magnesium                       False       False  False              False   \n",
              "nonflavanoid_phenols            False       False  False              False   \n",
              "proanthocyanins                 False       False  False              False   \n",
              "color_intensity                 False       False  False              False   \n",
              "hue                             False       False  False              False   \n",
              "od280/od315_of_diluted_wines    False       False  False              False   \n",
              "proline                         False       False  False              False   \n",
              "\n",
              "                              magnesium  nonflavanoid_phenols  \\\n",
              "alcohol                           False                 False   \n",
              "malic_acid                        False                 False   \n",
              "ash                               False                 False   \n",
              "alcalinity_of_ash                 False                 False   \n",
              "magnesium                          True                 False   \n",
              "nonflavanoid_phenols              False                  True   \n",
              "proanthocyanins                   False                 False   \n",
              "color_intensity                   False                 False   \n",
              "hue                               False                 False   \n",
              "od280/od315_of_diluted_wines      False                 False   \n",
              "proline                           False                 False   \n",
              "\n",
              "                              proanthocyanins  color_intensity    hue  \\\n",
              "alcohol                                 False            False  False   \n",
              "malic_acid                              False            False  False   \n",
              "ash                                     False            False  False   \n",
              "alcalinity_of_ash                       False            False  False   \n",
              "magnesium                               False            False  False   \n",
              "nonflavanoid_phenols                    False            False  False   \n",
              "proanthocyanins                          True            False  False   \n",
              "color_intensity                         False             True  False   \n",
              "hue                                     False            False   True   \n",
              "od280/od315_of_diluted_wines            False            False  False   \n",
              "proline                                 False            False  False   \n",
              "\n",
              "                              od280/od315_of_diluted_wines  proline  \n",
              "alcohol                                              False    False  \n",
              "malic_acid                                           False    False  \n",
              "ash                                                  False    False  \n",
              "alcalinity_of_ash                                    False    False  \n",
              "magnesium                                            False    False  \n",
              "nonflavanoid_phenols                                 False    False  \n",
              "proanthocyanins                                      False    False  \n",
              "color_intensity                                      False    False  \n",
              "hue                                                  False    False  \n",
              "od280/od315_of_diluted_wines                          True    False  \n",
              "proline                                              False     True  "
            ],
            "text/html": [
              "\n",
              "  <div id=\"df-71598240-c9d2-4e6d-b0ff-37e1ff1d27a1\">\n",
              "    <div class=\"colab-df-container\">\n",
              "      <div>\n",
              "<style scoped>\n",
              "    .dataframe tbody tr th:only-of-type {\n",
              "        vertical-align: middle;\n",
              "    }\n",
              "\n",
              "    .dataframe tbody tr th {\n",
              "        vertical-align: top;\n",
              "    }\n",
              "\n",
              "    .dataframe thead th {\n",
              "        text-align: right;\n",
              "    }\n",
              "</style>\n",
              "<table border=\"1\" class=\"dataframe\">\n",
              "  <thead>\n",
              "    <tr style=\"text-align: right;\">\n",
              "      <th></th>\n",
              "      <th>alcohol</th>\n",
              "      <th>malic_acid</th>\n",
              "      <th>ash</th>\n",
              "      <th>alcalinity_of_ash</th>\n",
              "      <th>magnesium</th>\n",
              "      <th>nonflavanoid_phenols</th>\n",
              "      <th>proanthocyanins</th>\n",
              "      <th>color_intensity</th>\n",
              "      <th>hue</th>\n",
              "      <th>od280/od315_of_diluted_wines</th>\n",
              "      <th>proline</th>\n",
              "    </tr>\n",
              "  </thead>\n",
              "  <tbody>\n",
              "    <tr>\n",
              "      <th>alcohol</th>\n",
              "      <td>True</td>\n",
              "      <td>False</td>\n",
              "      <td>False</td>\n",
              "      <td>False</td>\n",
              "      <td>False</td>\n",
              "      <td>False</td>\n",
              "      <td>False</td>\n",
              "      <td>False</td>\n",
              "      <td>False</td>\n",
              "      <td>False</td>\n",
              "      <td>False</td>\n",
              "    </tr>\n",
              "    <tr>\n",
              "      <th>malic_acid</th>\n",
              "      <td>False</td>\n",
              "      <td>True</td>\n",
              "      <td>False</td>\n",
              "      <td>False</td>\n",
              "      <td>False</td>\n",
              "      <td>False</td>\n",
              "      <td>False</td>\n",
              "      <td>False</td>\n",
              "      <td>False</td>\n",
              "      <td>False</td>\n",
              "      <td>False</td>\n",
              "    </tr>\n",
              "    <tr>\n",
              "      <th>ash</th>\n",
              "      <td>False</td>\n",
              "      <td>False</td>\n",
              "      <td>True</td>\n",
              "      <td>False</td>\n",
              "      <td>False</td>\n",
              "      <td>False</td>\n",
              "      <td>False</td>\n",
              "      <td>False</td>\n",
              "      <td>False</td>\n",
              "      <td>False</td>\n",
              "      <td>False</td>\n",
              "    </tr>\n",
              "    <tr>\n",
              "      <th>alcalinity_of_ash</th>\n",
              "      <td>False</td>\n",
              "      <td>False</td>\n",
              "      <td>False</td>\n",
              "      <td>True</td>\n",
              "      <td>False</td>\n",
              "      <td>False</td>\n",
              "      <td>False</td>\n",
              "      <td>False</td>\n",
              "      <td>False</td>\n",
              "      <td>False</td>\n",
              "      <td>False</td>\n",
              "    </tr>\n",
              "    <tr>\n",
              "      <th>magnesium</th>\n",
              "      <td>False</td>\n",
              "      <td>False</td>\n",
              "      <td>False</td>\n",
              "      <td>False</td>\n",
              "      <td>True</td>\n",
              "      <td>False</td>\n",
              "      <td>False</td>\n",
              "      <td>False</td>\n",
              "      <td>False</td>\n",
              "      <td>False</td>\n",
              "      <td>False</td>\n",
              "    </tr>\n",
              "    <tr>\n",
              "      <th>nonflavanoid_phenols</th>\n",
              "      <td>False</td>\n",
              "      <td>False</td>\n",
              "      <td>False</td>\n",
              "      <td>False</td>\n",
              "      <td>False</td>\n",
              "      <td>True</td>\n",
              "      <td>False</td>\n",
              "      <td>False</td>\n",
              "      <td>False</td>\n",
              "      <td>False</td>\n",
              "      <td>False</td>\n",
              "    </tr>\n",
              "    <tr>\n",
              "      <th>proanthocyanins</th>\n",
              "      <td>False</td>\n",
              "      <td>False</td>\n",
              "      <td>False</td>\n",
              "      <td>False</td>\n",
              "      <td>False</td>\n",
              "      <td>False</td>\n",
              "      <td>True</td>\n",
              "      <td>False</td>\n",
              "      <td>False</td>\n",
              "      <td>False</td>\n",
              "      <td>False</td>\n",
              "    </tr>\n",
              "    <tr>\n",
              "      <th>color_intensity</th>\n",
              "      <td>False</td>\n",
              "      <td>False</td>\n",
              "      <td>False</td>\n",
              "      <td>False</td>\n",
              "      <td>False</td>\n",
              "      <td>False</td>\n",
              "      <td>False</td>\n",
              "      <td>True</td>\n",
              "      <td>False</td>\n",
              "      <td>False</td>\n",
              "      <td>False</td>\n",
              "    </tr>\n",
              "    <tr>\n",
              "      <th>hue</th>\n",
              "      <td>False</td>\n",
              "      <td>False</td>\n",
              "      <td>False</td>\n",
              "      <td>False</td>\n",
              "      <td>False</td>\n",
              "      <td>False</td>\n",
              "      <td>False</td>\n",
              "      <td>False</td>\n",
              "      <td>True</td>\n",
              "      <td>False</td>\n",
              "      <td>False</td>\n",
              "    </tr>\n",
              "    <tr>\n",
              "      <th>od280/od315_of_diluted_wines</th>\n",
              "      <td>False</td>\n",
              "      <td>False</td>\n",
              "      <td>False</td>\n",
              "      <td>False</td>\n",
              "      <td>False</td>\n",
              "      <td>False</td>\n",
              "      <td>False</td>\n",
              "      <td>False</td>\n",
              "      <td>False</td>\n",
              "      <td>True</td>\n",
              "      <td>False</td>\n",
              "    </tr>\n",
              "    <tr>\n",
              "      <th>proline</th>\n",
              "      <td>False</td>\n",
              "      <td>False</td>\n",
              "      <td>False</td>\n",
              "      <td>False</td>\n",
              "      <td>False</td>\n",
              "      <td>False</td>\n",
              "      <td>False</td>\n",
              "      <td>False</td>\n",
              "      <td>False</td>\n",
              "      <td>False</td>\n",
              "      <td>True</td>\n",
              "    </tr>\n",
              "  </tbody>\n",
              "</table>\n",
              "</div>\n",
              "      <button class=\"colab-df-convert\" onclick=\"convertToInteractive('df-71598240-c9d2-4e6d-b0ff-37e1ff1d27a1')\"\n",
              "              title=\"Convert this dataframe to an interactive table.\"\n",
              "              style=\"display:none;\">\n",
              "        \n",
              "  <svg xmlns=\"http://www.w3.org/2000/svg\" height=\"24px\"viewBox=\"0 0 24 24\"\n",
              "       width=\"24px\">\n",
              "    <path d=\"M0 0h24v24H0V0z\" fill=\"none\"/>\n",
              "    <path d=\"M18.56 5.44l.94 2.06.94-2.06 2.06-.94-2.06-.94-.94-2.06-.94 2.06-2.06.94zm-11 1L8.5 8.5l.94-2.06 2.06-.94-2.06-.94L8.5 2.5l-.94 2.06-2.06.94zm10 10l.94 2.06.94-2.06 2.06-.94-2.06-.94-.94-2.06-.94 2.06-2.06.94z\"/><path d=\"M17.41 7.96l-1.37-1.37c-.4-.4-.92-.59-1.43-.59-.52 0-1.04.2-1.43.59L10.3 9.45l-7.72 7.72c-.78.78-.78 2.05 0 2.83L4 21.41c.39.39.9.59 1.41.59.51 0 1.02-.2 1.41-.59l7.78-7.78 2.81-2.81c.8-.78.8-2.07 0-2.86zM5.41 20L4 18.59l7.72-7.72 1.47 1.35L5.41 20z\"/>\n",
              "  </svg>\n",
              "      </button>\n",
              "      \n",
              "  <style>\n",
              "    .colab-df-container {\n",
              "      display:flex;\n",
              "      flex-wrap:wrap;\n",
              "      gap: 12px;\n",
              "    }\n",
              "\n",
              "    .colab-df-convert {\n",
              "      background-color: #E8F0FE;\n",
              "      border: none;\n",
              "      border-radius: 50%;\n",
              "      cursor: pointer;\n",
              "      display: none;\n",
              "      fill: #1967D2;\n",
              "      height: 32px;\n",
              "      padding: 0 0 0 0;\n",
              "      width: 32px;\n",
              "    }\n",
              "\n",
              "    .colab-df-convert:hover {\n",
              "      background-color: #E2EBFA;\n",
              "      box-shadow: 0px 1px 2px rgba(60, 64, 67, 0.3), 0px 1px 3px 1px rgba(60, 64, 67, 0.15);\n",
              "      fill: #174EA6;\n",
              "    }\n",
              "\n",
              "    [theme=dark] .colab-df-convert {\n",
              "      background-color: #3B4455;\n",
              "      fill: #D2E3FC;\n",
              "    }\n",
              "\n",
              "    [theme=dark] .colab-df-convert:hover {\n",
              "      background-color: #434B5C;\n",
              "      box-shadow: 0px 1px 3px 1px rgba(0, 0, 0, 0.15);\n",
              "      filter: drop-shadow(0px 1px 2px rgba(0, 0, 0, 0.3));\n",
              "      fill: #FFFFFF;\n",
              "    }\n",
              "  </style>\n",
              "\n",
              "      <script>\n",
              "        const buttonEl =\n",
              "          document.querySelector('#df-71598240-c9d2-4e6d-b0ff-37e1ff1d27a1 button.colab-df-convert');\n",
              "        buttonEl.style.display =\n",
              "          google.colab.kernel.accessAllowed ? 'block' : 'none';\n",
              "\n",
              "        async function convertToInteractive(key) {\n",
              "          const element = document.querySelector('#df-71598240-c9d2-4e6d-b0ff-37e1ff1d27a1');\n",
              "          const dataTable =\n",
              "            await google.colab.kernel.invokeFunction('convertToInteractive',\n",
              "                                                     [key], {});\n",
              "          if (!dataTable) return;\n",
              "\n",
              "          const docLinkHtml = 'Like what you see? Visit the ' +\n",
              "            '<a target=\"_blank\" href=https://colab.research.google.com/notebooks/data_table.ipynb>data table notebook</a>'\n",
              "            + ' to learn more about interactive tables.';\n",
              "          element.innerHTML = '';\n",
              "          dataTable['output_type'] = 'display_data';\n",
              "          await google.colab.output.renderOutput(dataTable, element);\n",
              "          const docLink = document.createElement('div');\n",
              "          docLink.innerHTML = docLinkHtml;\n",
              "          element.appendChild(docLink);\n",
              "        }\n",
              "      </script>\n",
              "    </div>\n",
              "  </div>\n",
              "  "
            ]
          },
          "metadata": {},
          "execution_count": 10
        }
      ]
    },
    {
      "cell_type": "code",
      "source": [
        "import seaborn as sns\n",
        "sns.heatmap(X_train.corr() > 0.75)\n",
        "plt.title('Features who\\'s correlation is higher than 0.75')"
      ],
      "metadata": {
        "colab": {
          "base_uri": "https://localhost:8080/",
          "height": 597
        },
        "id": "PvclBxhRmVao",
        "outputId": "afedfc57-c6ed-4842-98da-ce3b8eae2fa8"
      },
      "execution_count": 11,
      "outputs": [
        {
          "output_type": "error",
          "ename": "NameError",
          "evalue": "ignored",
          "traceback": [
            "\u001b[0;31m---------------------------------------------------------------------------\u001b[0m",
            "\u001b[0;31mNameError\u001b[0m                                 Traceback (most recent call last)",
            "\u001b[0;32m<ipython-input-11-a19003717976>\u001b[0m in \u001b[0;36m<module>\u001b[0;34m\u001b[0m\n\u001b[1;32m      1\u001b[0m \u001b[0;32mimport\u001b[0m \u001b[0mseaborn\u001b[0m \u001b[0;32mas\u001b[0m \u001b[0msns\u001b[0m\u001b[0;34m\u001b[0m\u001b[0;34m\u001b[0m\u001b[0m\n\u001b[1;32m      2\u001b[0m \u001b[0msns\u001b[0m\u001b[0;34m.\u001b[0m\u001b[0mheatmap\u001b[0m\u001b[0;34m(\u001b[0m\u001b[0mX_train\u001b[0m\u001b[0;34m.\u001b[0m\u001b[0mcorr\u001b[0m\u001b[0;34m(\u001b[0m\u001b[0;34m)\u001b[0m \u001b[0;34m>\u001b[0m \u001b[0;36m0.75\u001b[0m\u001b[0;34m)\u001b[0m\u001b[0;34m\u001b[0m\u001b[0;34m\u001b[0m\u001b[0m\n\u001b[0;32m----> 3\u001b[0;31m \u001b[0mplt\u001b[0m\u001b[0;34m.\u001b[0m\u001b[0mtitle\u001b[0m\u001b[0;34m(\u001b[0m\u001b[0;34m'Features who\\'s correlation is higher than 0.75'\u001b[0m\u001b[0;34m)\u001b[0m\u001b[0;34m\u001b[0m\u001b[0;34m\u001b[0m\u001b[0m\n\u001b[0m",
            "\u001b[0;31mNameError\u001b[0m: name 'plt' is not defined"
          ]
        },
        {
          "output_type": "display_data",
          "data": {
            "text/plain": [
              "<Figure size 432x288 with 2 Axes>"
            ],
            "image/png": "[encoded data removed]"
          },
          "metadata": {
            "needs_background": "light"
          }
        }
      ]
    },
    {
      "cell_type": "code",
      "source": [
        "from sklearn.decomposition import PCA\n",
        "from sklearn.preprocessing import StandardScaler"
      ],
      "metadata": {
        "id": "dCfAwrgbPSqQ"
      },
      "execution_count": null,
      "outputs": []
    },
    {
      "cell_type": "code",
      "source": [
        "scaler = StandardScaler()\n",
        "# got to scale for PCA"
      ],
      "metadata": {
        "id": "vh0FThaCRJiw"
      },
      "execution_count": null,
      "outputs": []
    },
    {
      "cell_type": "code",
      "source": [
        "scaler.fit(X_train)\n",
        "X_train_sc = scaler.transform(X_train)"
      ],
      "metadata": {
        "id": "hNP2YiIkRkLt"
      },
      "execution_count": null,
      "outputs": []
    },
    {
      "cell_type": "code",
      "source": [
        "X_train_sc.shape"
      ],
      "metadata": {
        "id": "-1HtxxuoR1yY"
      },
      "execution_count": null,
      "outputs": []
    },
    {
      "cell_type": "code",
      "source": [
        "pca = PCA(n_components=2)\n",
        "pca.fit(X_train_sc)\n",
        "# 11 features, knock down to 2"
      ],
      "metadata": {
        "id": "1m0OypnVQop4"
      },
      "execution_count": null,
      "outputs": []
    },
    {
      "cell_type": "code",
      "source": [
        "pc = pca.transform(X_train_sc)\n",
        "# get PC1, PC2 on scaled training data"
      ],
      "metadata": {
        "id": "5fhHbNNfQt-f"
      },
      "execution_count": null,
      "outputs": []
    },
    {
      "cell_type": "code",
      "source": [
        "pc.shape"
      ],
      "metadata": {
        "id": "C788dYp5S1kc"
      },
      "execution_count": null,
      "outputs": []
    },
    {
      "cell_type": "code",
      "source": [
        "pca.explained_variance_ratio_"
      ],
      "metadata": {
        "id": "bsDvKm82Sa3g"
      },
      "execution_count": null,
      "outputs": []
    },
    {
      "cell_type": "code",
      "source": [
        "sum(pca.explained_variance_ratio_)\n",
        "# ok..  is almost 60% of explained variance."
      ],
      "metadata": {
        "id": "mzPpt7X7VtaG"
      },
      "execution_count": null,
      "outputs": []
    },
    {
      "cell_type": "code",
      "source": [
        "import matplotlib.pyplot as plt"
      ],
      "metadata": {
        "id": "9nzz3iTJSoRS"
      },
      "execution_count": null,
      "outputs": []
    },
    {
      "cell_type": "code",
      "source": [
        "plt.scatter(pc[:,0],pc[:,1],c=y_train)\n",
        "# plot the first and second PC's.. Look seperable."
      ],
      "metadata": {
        "id": "mZpJbeD6Sww-"
      },
      "execution_count": null,
      "outputs": []
    },
    {
      "cell_type": "code",
      "source": [
        "import numpy as np"
      ],
      "metadata": {
        "id": "ThY4gGfkTcCD"
      },
      "execution_count": null,
      "outputs": []
    },
    {
      "cell_type": "code",
      "source": [
        "X_test_sc = np.array(X_test - scaler.mean_)/np.sqrt(scaler.var_)\n",
        "# scale  test data with mean and std from the training."
      ],
      "metadata": {
        "id": "6UCN9pUHTMXK"
      },
      "execution_count": null,
      "outputs": []
    },
    {
      "cell_type": "code",
      "source": [
        "pc2 = pca.transform(np.array(X_test_sc))\n",
        "# now project.."
      ],
      "metadata": {
        "id": "L1gGuYlSTkLD"
      },
      "execution_count": null,
      "outputs": []
    },
    {
      "cell_type": "code",
      "source": [
        "plt.scatter(pc[:,0],pc[:,1],c=y_train,s=4)\n",
        "plt.scatter(pc2[:,0],pc2[:,1],c=y_test,marker='*')\n",
        "# plotted the training data as tiny dots, stars as test data.  Did a pretty decent job!  Note the PC's show seperability\n",
        "# the three classes."
      ],
      "metadata": {
        "id": "BBlrRsD4T88m"
      },
      "execution_count": null,
      "outputs": []
    },
    {
      "cell_type": "code",
      "source": [
        "from sklearn.linear_model import LogisticRegression"
      ],
      "metadata": {
        "id": "_0kzCvfpjJgw"
      },
      "execution_count": null,
      "outputs": []
    },
    {
      "cell_type": "code",
      "source": [
        "lr = LogisticRegression(random_state=42,penalty='l2')"
      ],
      "metadata": {
        "id": "hjwAjMNOjrSV"
      },
      "execution_count": null,
      "outputs": []
    },
    {
      "cell_type": "code",
      "source": [
        "lr.fit(X_train_sc,y_train)"
      ],
      "metadata": {
        "id": "b9qnmILSj5io"
      },
      "execution_count": null,
      "outputs": []
    },
    {
      "cell_type": "code",
      "source": [
        "y_lr_pred = lr.predict(X_test_sc)"
      ],
      "metadata": {
        "id": "GyVKk-y3kB_M"
      },
      "execution_count": null,
      "outputs": []
    },
    {
      "cell_type": "code",
      "source": [
        "lr.score(X_test_sc,y_test)"
      ],
      "metadata": {
        "id": "0DJ3x2NEkJO5"
      },
      "execution_count": null,
      "outputs": []
    },
    {
      "cell_type": "code",
      "source": [
        "from sklearn.metrics import confusion_matrix\n",
        "cm = confusion_matrix(y_test,y_lr_pred)\n",
        "sns.heatmap(cm,annot=True,fmt='2.0f')\n",
        "plt.title(lr.score(X_test_sc,y_test))"
      ],
      "metadata": {
        "id": "rIvSBXuWkk2a"
      },
      "execution_count": null,
      "outputs": []
    },
    {
      "cell_type": "code",
      "source": [
        "# Fitting Kernel SVM to the Training set with best parameters\n",
        "from sklearn.svm import SVC\n",
        "classifier = SVC(C=1,\n",
        "                 kernel = 'rbf', \n",
        "                 random_state = 0, \n",
        "                 gamma = 0.2)\n",
        "classifier.fit(X_train_sc, y_train)"
      ],
      "metadata": {
        "id": "aPpo_iaRwwv6"
      },
      "execution_count": null,
      "outputs": []
    },
    {
      "cell_type": "code",
      "source": [
        "#Predicting the Test Set\n",
        "y_pred = classifier.predict(X_test_sc)"
      ],
      "metadata": {
        "id": "8BUyoSo38dm5"
      },
      "execution_count": null,
      "outputs": []
    },
    {
      "cell_type": "code",
      "source": [
        "cm = confusion_matrix(y_test, y_pred)\n",
        "sns.heatmap(cm,annot=True,fmt='2.0f')\n",
        "plt.title(classifier.score(X_test_sc,y_test))"
      ],
      "metadata": {
        "id": "qr3bAZQ28f7r"
      },
      "execution_count": null,
      "outputs": []
    },
    {
      "cell_type": "code",
      "source": [
        "sum(y_pred == y_test)/len(y_pred)"
      ],
      "metadata": {
        "id": "HP_AUkLb8oXo"
      },
      "execution_count": null,
      "outputs": []
    },
    {
      "cell_type": "code",
      "source": [
        "plt.scatter(pc[:,0],pc[:,1],c=y_train,s=4)\n",
        "plt.scatter(pc2[:,0],pc2[:,1],c=y_test,marker='*')"
      ],
      "metadata": {
        "id": "BGRn_gFs9NDF"
      },
      "execution_count": null,
      "outputs": []
    },
    {
      "cell_type": "code",
      "source": [
        "X_train_pc = np.array([pc[:,0],pc[:,1]]).T\n",
        "X_train_pc.shape"
      ],
      "metadata": {
        "id": "_urJgej5-N-B"
      },
      "execution_count": null,
      "outputs": []
    },
    {
      "cell_type": "code",
      "source": [
        "X_test_pc = np.array([pc2[:,0],pc2[:,1]]).T\n",
        "X_test_pc.shape"
      ],
      "metadata": {
        "id": "-jCwpcs6-6Wd"
      },
      "execution_count": null,
      "outputs": []
    },
    {
      "cell_type": "code",
      "source": [
        "# Fitting Kernel SVM to the Training set with best parameters\n",
        "from sklearn.svm import SVC\n",
        "classifier2 = SVC(C=1,\n",
        "                 kernel = 'rbf', \n",
        "                 random_state = 0, \n",
        "                 gamma = 0.9)\n",
        "classifier2.fit(X_train_pc, y_train)"
      ],
      "metadata": {
        "id": "te2K9BPM-PMp"
      },
      "execution_count": null,
      "outputs": []
    },
    {
      "cell_type": "code",
      "source": [
        "#Predicting the Test Set\n",
        "y_pred = classifier2.predict(X_test_pc)"
      ],
      "metadata": {
        "id": "YhUKSodT-joQ"
      },
      "execution_count": null,
      "outputs": []
    },
    {
      "cell_type": "code",
      "source": [
        "from sklearn.metrics import confusion_matrix\n",
        "cm = confusion_matrix(y_test, y_pred)\n",
        "sns.heatmap(cm,annot=True,fmt='2.0f')\n",
        "plt.title(classifier2.score(X_test_pc,y_test))"
      ],
      "metadata": {
        "id": "24Kg1efc-lv5"
      },
      "execution_count": null,
      "outputs": []
    },
    {
      "cell_type": "code",
      "source": [
        "plt.scatter(X_test_pc[:,0],X_test_pc[:,1],c=y_pred,marker='*',alpha=1)\n",
        "plt.scatter(X_test_pc[:,0],X_test_pc[:,1],c=y_test,marker='o',s=200,alpha=.2)"
      ],
      "metadata": {
        "id": "aBMgkASt_HKE"
      },
      "execution_count": null,
      "outputs": []
    },
    {
      "cell_type": "code",
      "source": [
        "# Fitting Kernel SVM to the Training set with best parameters\n",
        "from sklearn.svm import SVC\n",
        "classifier3 = SVC(C=1,\n",
        "                 kernel = 'rbf', \n",
        "                 random_state = 0, \n",
        "                 gamma = 0.1)\n",
        "classifier3.fit(X_train, y_train)"
      ],
      "metadata": {
        "id": "0F6kqdrV_cX9"
      },
      "execution_count": null,
      "outputs": []
    },
    {
      "cell_type": "code",
      "source": [
        "#Predicting the Test Set\n",
        "y_pred = classifier3.predict(X_test)\n",
        "classifier3.score(X_test,y_test)"
      ],
      "metadata": {
        "id": "o0PDpzC0w8LT"
      },
      "execution_count": null,
      "outputs": []
    },
    {
      "cell_type": "code",
      "source": [
        "from sklearn.metrics import confusion_matrix\n",
        "cm = confusion_matrix(y_test, y_pred)\n",
        "sns.heatmap(cm,annot=True,fmt='2.0f')\n",
        "plt.title(classifier3.score(X_test,y_test))"
      ],
      "metadata": {
        "id": "KLn5WkDKw-Bq"
      },
      "execution_count": null,
      "outputs": []
    },
    {
      "cell_type": "code",
      "source": [
        "plt.scatter(X_test_pc[:,0],X_test_pc[:,1],c=y_pred,marker='*',s=200, alpha=1)\n",
        "plt.scatter(X_test_pc[:,0],X_test_pc[:,1],c=y_test,marker='o',s=50,alpha=.2)"
      ],
      "metadata": {
        "id": "npa3xzDklO0a"
      },
      "execution_count": null,
      "outputs": []
    },
    {
      "cell_type": "code",
      "source": [],
      "metadata": {
        "id": "mwdnDzjDlTbl"
      },
      "execution_count": null,
      "outputs": []
    }
  ]
}