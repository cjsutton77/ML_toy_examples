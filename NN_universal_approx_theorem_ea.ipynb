{
 "cells": [
  {
   "cell_type": "code",
   "execution_count": 53,
   "metadata": {},
   "outputs": [],
   "source": [
    "import numpy as np\n",
    "%matplotlib inline\n",
    "import matplotlib.pyplot as plt\n",
    "from tqdm import tqdm"
   ]
  },
  {
   "cell_type": "code",
   "execution_count": 54,
   "metadata": {},
   "outputs": [],
   "source": [
    "def sigmoidea(x, forward=True):\n",
    "    if forward:\n",
    "        return 1 / (1 + np.exp(-x))\n",
    "    else:\n",
    "        return x * (1 - x) # In the derivative, 'x' will be sigmoid(x)."
   ]
  },
  {
   "cell_type": "code",
   "execution_count": 55,
   "metadata": {},
   "outputs": [
    {
     "data": {
      "text/plain": [
       "<matplotlib.legend.Legend at 0x1198a9190>"
      ]
     },
     "execution_count": 55,
     "metadata": {},
     "output_type": "execute_result"
    },
    {
     "data": {
      "image/png": "[encoded data removed]",
      "text/plain": [
       "<Figure size 432x288 with 1 Axes>"
      ]
     },
     "metadata": {
      "needs_background": "light"
     },
     "output_type": "display_data"
    }
   ],
   "source": [
    "x = np.linspace(-5,5)\n",
    "y1a = sigmoidea(x)\n",
    "plt.plot(x,y1a,label='sigmoid')\n",
    "y1a = sigmoidea(sigmoidea(x),forward=False)\n",
    "plt.plot(x,y1a,label='d(sigmod)')\n",
    "plt.legend()"
   ]
  },
  {
   "cell_type": "code",
   "execution_count": 61,
   "metadata": {},
   "outputs": [],
   "source": [
    "def forward(xi, W1, b1, W2, b2):\n",
    "    print(xi,W1,type(xi))\n",
    "    z1 = np.matmul(xi,W1)+b1\n",
    "    h = sigmoidea(z1)\n",
    "    ypred = np.matmul(h,W2)+b2\n",
    "    return ypred, h"
   ]
  },
  {
   "cell_type": "code",
   "execution_count": 62,
   "metadata": {},
   "outputs": [],
   "source": [
    "def backward(xi, ytrue, h, ypred, params, learning_rate):\n",
    "\n",
    "    err_output = ypred - ytrue\n",
    "    grad_W2 = err_output * h\n",
    "    params['W2'] -= learning_rate * grad_W2\n",
    "\n",
    "    grad_b2 = err_output\n",
    "    params['b2'] -= learning_rate * grad_b2\n",
    "\n",
    "    derivative = sigmoidea(h, forward=False)\n",
    "    err_hidden = err_output * derivative * params['W2']\n",
    "\n",
    "    grad_W1 = err_hidden * x\n",
    "    \n",
    "    grad_b1 = err_hidden\n",
    "    params['b1'] -= learning_rate * grad_b1\n",
    "    \n",
    "    return params"
   ]
  },
  {
   "cell_type": "code",
   "execution_count": 63,
   "metadata": {},
   "outputs": [],
   "source": [
    "def initialize_params(features, hidden_layer, seed=42):\n",
    "    np.random.seed(seed)\n",
    "    params = {\n",
    "        \"W1\": np.random.normal(size=(1,hidden_layer)),\n",
    "        \"b1\": np.random.normal(size=(1,hidden_layer)),\n",
    "\n",
    "        \"W2\": np.random.normal(size=(hidden_layer,1)),\n",
    "        \"b2\": np.random.normal(size=(1,1))\n",
    "    }\n",
    "    return params"
   ]
  },
  {
   "cell_type": "code",
   "execution_count": 64,
   "metadata": {},
   "outputs": [],
   "source": [
    "def kosi(xi,ytrue):\n",
    "    xi = np.random.uniform(0,np.pi/2,1)\n",
    "    ytrue = np.array(np.cos(4*xi))**2\n",
    "    return ytrue"
   ]
  },
  {
   "cell_type": "code",
   "execution_count": 67,
   "metadata": {},
   "outputs": [
    {
     "name": "stderr",
     "output_type": "stream",
     "text": [
      "  0%|          | 0/1000 [00:00<?, ?it/s]"
     ]
    },
    {
     "name": "stdout",
     "output_type": "stream",
     "text": [
      "[0.67849765] [[ 0.49671415 -0.1382643   0.64768854  1.52302986]] <class 'numpy.ndarray'>\n"
     ]
    },
    {
     "name": "stderr",
     "output_type": "stream",
     "text": [
      "\n"
     ]
    },
    {
     "ename": "ValueError",
     "evalue": "non-broadcastable output operand with shape (4,1) doesn't match the broadcast shape (4,4)",
     "output_type": "error",
     "traceback": [
      "\u001b[0;31m---------------------------------------------------------------------------\u001b[0m",
      "\u001b[0;31mValueError\u001b[0m                                Traceback (most recent call last)",
      "\u001b[0;32m<ipython-input-67-b173da6c13ad>\u001b[0m in \u001b[0;36m<module>\u001b[0;34m\u001b[0m\n\u001b[1;32m     24\u001b[0m                           \u001b[0mh\u001b[0m\u001b[0;34m,\u001b[0m \u001b[0merror\u001b[0m\u001b[0;34m[\u001b[0m\u001b[0;36m0\u001b[0m\u001b[0;34m]\u001b[0m\u001b[0;34m,\u001b[0m\u001b[0;34m\u001b[0m\u001b[0;34m\u001b[0m\u001b[0m\n\u001b[1;32m     25\u001b[0m                           \u001b[0mparams\u001b[0m\u001b[0;34m,\u001b[0m\u001b[0;34m\u001b[0m\u001b[0;34m\u001b[0m\u001b[0m\n\u001b[0;32m---> 26\u001b[0;31m                           learning_rate)\n\u001b[0m\u001b[1;32m     27\u001b[0m \u001b[0;34m\u001b[0m\u001b[0m\n\u001b[1;32m     28\u001b[0m         \u001b[0merr\u001b[0m\u001b[0;34m.\u001b[0m\u001b[0mappend\u001b[0m\u001b[0;34m(\u001b[0m\u001b[0merror\u001b[0m\u001b[0;34m[\u001b[0m\u001b[0;36m0\u001b[0m\u001b[0;34m]\u001b[0m\u001b[0;34m)\u001b[0m\u001b[0;34m\u001b[0m\u001b[0;34m\u001b[0m\u001b[0m\n",
      "\u001b[0;32m<ipython-input-62-d429257e4c63>\u001b[0m in \u001b[0;36mbackward\u001b[0;34m(xi, ytrue, h, ypred, params, learning_rate)\u001b[0m\n\u001b[1;32m      3\u001b[0m     \u001b[0merr_output\u001b[0m \u001b[0;34m=\u001b[0m \u001b[0mypred\u001b[0m \u001b[0;34m-\u001b[0m \u001b[0mytrue\u001b[0m\u001b[0;34m\u001b[0m\u001b[0;34m\u001b[0m\u001b[0m\n\u001b[1;32m      4\u001b[0m     \u001b[0mgrad_W2\u001b[0m \u001b[0;34m=\u001b[0m \u001b[0merr_output\u001b[0m \u001b[0;34m*\u001b[0m \u001b[0mh\u001b[0m\u001b[0;34m\u001b[0m\u001b[0;34m\u001b[0m\u001b[0m\n\u001b[0;32m----> 5\u001b[0;31m     \u001b[0mparams\u001b[0m\u001b[0;34m[\u001b[0m\u001b[0;34m'W2'\u001b[0m\u001b[0;34m]\u001b[0m \u001b[0;34m-=\u001b[0m \u001b[0mlearning_rate\u001b[0m \u001b[0;34m*\u001b[0m \u001b[0mgrad_W2\u001b[0m\u001b[0;34m\u001b[0m\u001b[0;34m\u001b[0m\u001b[0m\n\u001b[0m\u001b[1;32m      6\u001b[0m \u001b[0;34m\u001b[0m\u001b[0m\n\u001b[1;32m      7\u001b[0m     \u001b[0mgrad_b2\u001b[0m \u001b[0;34m=\u001b[0m \u001b[0merr_output\u001b[0m\u001b[0;34m\u001b[0m\u001b[0;34m\u001b[0m\u001b[0m\n",
      "\u001b[0;31mValueError\u001b[0m: non-broadcastable output operand with shape (4,1) doesn't match the broadcast shape (4,4)"
     ]
    }
   ],
   "source": [
    "num_epochs = 1000\n",
    "learning_rate = 0.01\n",
    "hidden_layer = 4\n",
    "\n",
    "features = 1\n",
    "err = []\n",
    "\n",
    "params = initialize_params(features, hidden_layer)\n",
    "\n",
    "for epoch in tqdm(range(num_epochs)):\n",
    "     # Training.\n",
    "    error = 0\n",
    "    for i in range(5000):\n",
    "        xi = np.random.uniform(0,np.pi/2,1)\n",
    "        ytrue = np.array(np.cos(4*xi))**2\n",
    "        \n",
    "        ypred, h = forward(xi, **params)\n",
    "        error += (ytrue-ypred) ** 2\n",
    "        error = error\n",
    "        #y.append(ytrue)\n",
    "        #y_hat.append(ypred.item())\n",
    "\n",
    "        params = backward(xi, ytrue,\n",
    "                          h, error[0],\n",
    "                          params,\n",
    "                          learning_rate)\n",
    "\n",
    "        err.append(error[0])\n",
    "    #loss_history.append(mse(y, y_hat))\n",
    "    if epoch % 100 == 0:\n",
    "        print(f'epoch {epoch}: error is {error[0][0]}')\n",
    "print(f'epoch {epoch}: error is {error[0][0]}')\n",
    "print('Finished')"
   ]
  },
  {
   "cell_type": "code",
   "execution_count": null,
   "metadata": {},
   "outputs": [],
   "source": []
  },
  {
   "cell_type": "code",
   "execution_count": null,
   "metadata": {},
   "outputs": [],
   "source": []
  }
 ],
 "metadata": {
  "kernelspec": {
   "display_name": "Python 3",
   "language": "python",
   "name": "python3"
  },
  "language_info": {
   "codemirror_mode": {
    "name": "ipython",
    "version": 3
   },
   "file_extension": ".py",
   "mimetype": "text/x-python",
   "name": "python",
   "nbconvert_exporter": "python",
   "pygments_lexer": "ipython3",
   "version": "3.7.6"
  }
 },
 "nbformat": 4,
 "nbformat_minor": 4
}
